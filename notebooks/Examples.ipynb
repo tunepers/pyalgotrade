{
 "metadata": {
  "name": "",
  "signature": "sha256:d329ed6d34a6b9804a3bff38da4b53e1b566c304a50e73e0ab4311bb59136cca"
 },
 "nbformat": 3,
 "nbformat_minor": 0,
 "worksheets": [
  {
   "cells": [
    {
     "cell_type": "code",
     "collapsed": false,
     "input": [
      "import sys\n",
      "import pandas as pd\n",
      "import numpy as np\n",
      "sys.path.append('/Users/tp/Drive/Private/Trading/pyalgotrade')"
     ],
     "language": "python",
     "metadata": {},
     "outputs": [],
     "prompt_number": 2
    },
    {
     "cell_type": "markdown",
     "metadata": {},
     "source": [
      "# Load data"
     ]
    },
    {
     "cell_type": "code",
     "collapsed": false,
     "input": [
      "from pyalgotrade.tools import yahoofinance\n",
      "yahoofinance.download_daily_bars('orcl', 2000, '../../Stockprices/Nasdaq/sorcl-2000.csv')"
     ],
     "language": "python",
     "metadata": {},
     "outputs": [],
     "prompt_number": 3
    },
    {
     "cell_type": "code",
     "collapsed": false,
     "input": [
      "!head '../../Stockprices/Nasdaq/sorcl-2000.csv'"
     ],
     "language": "python",
     "metadata": {},
     "outputs": [
      {
       "output_type": "stream",
       "stream": "stdout",
       "text": [
        "Date,Open,High,Low,Close,Volume,Adj Close\r\n",
        "2000-12-29,30.875,31.3125,28.6875,29.0625,31702200,27.208866\r\n",
        "2000-12-28,30.5625,31.625,30.375,31.0625,25053600,29.081304\r\n",
        "2000-12-27,30.375,31.0625,29.375,30.6875,26437500,28.730222\r\n",
        "2000-12-26,31.50,32.1875,30.00,30.9375,20589500,28.964276\r\n",
        "2000-12-22,30.375,31.984381,30.00,31.875,35568200,29.841982\r\n",
        "2000-12-21,27.8125,30.25,27.3125,29.50,46719700,27.618462\r\n",
        "2000-12-20,28.0625,29.8125,27.50,28.50,54440500,26.682243\r\n",
        "2000-12-19,31.8125,33.125,30.125,30.625,58653700,28.671708\r\n",
        "2000-12-18,30.00,32.4375,29.9375,32.00,61640100,29.959009\r\n"
       ]
      }
     ],
     "prompt_number": 23
    },
    {
     "cell_type": "markdown",
     "metadata": {},
     "source": [
      "### Reformat Nasdaq OMX historic stock prices"
     ]
    },
    {
     "cell_type": "code",
     "collapsed": false,
     "input": [
      "!head ../../Stockprices/Nasdaqomxnordic/FLS-1990-01-01-2010-01-01.csv"
     ],
     "language": "python",
     "metadata": {},
     "outputs": [
      {
       "output_type": "stream",
       "stream": "stdout",
       "text": [
        "sep=;\r",
        "\r\n",
        "Date;Bid;Ask;Opening price;High price;Low price;Closing price;Average price;Total volume;Turnover;Trades;\r",
        "\r\n",
        "2009-12-30;367;368,5;370,5;371;366,5;367;368,3;275187;101355727,785;1269;\r",
        "\r\n",
        "2009-12-29;371;372,5;374;374;369;372,5;371,75;129845;48270240,184;806;\r",
        "\r\n",
        "2009-12-28;370;370,5;373,5;378,5;369;370,5;373,85;243096;90892392,681;1636;\r",
        "\r\n",
        "2009-12-23;369,5;370;357;372;357;370;366,67;418260;153375826,532;2266;\r",
        "\r\n",
        "2009-12-22;356;357;350;358;348,5;357;352,8;333350;117562108,352;1473;\r",
        "\r\n",
        "2009-12-21;348;348,5;350,5;351,5;341;348,5;344,51;228080;78565446,3;1195;\r",
        "\r\n",
        "2009-12-18;349;350;354,5;354,5;348;349;350,6;252095;88393314,675;1355;\r",
        "\r\n",
        "2009-12-17;354,5;355;348;354,5;348;354,5;351,25;198846;69844024,2;998;\r",
        "\r\n"
       ]
      }
     ],
     "prompt_number": 26
    },
    {
     "cell_type": "code",
     "collapsed": false,
     "input": [
      "filename_in = \"../../Stockprices/Nasdaqomxnordic/FLS-1990-01-01-2010-01-01.csv\""
     ],
     "language": "python",
     "metadata": {},
     "outputs": [],
     "prompt_number": 8
    },
    {
     "cell_type": "code",
     "collapsed": false,
     "input": [
      "filename_in = \"../../Stockprices/Nasdaqomxnordic/NZYM-B-2000-09-24-2015-10-23.csv\""
     ],
     "language": "python",
     "metadata": {},
     "outputs": [],
     "prompt_number": 4
    },
    {
     "cell_type": "code",
     "collapsed": false,
     "input": [
      "# TODO: Remove \"Adj close\" from library code\n",
      "filename_out = filename_in.replace('.csv','_yahooformat.csv')\n",
      "df_n = pd.read_csv(filename_in,sep=\";\",skiprows=1)\n",
      "for col_name in ['Bid','Ask','Opening price','High price','Low price','Closing price','Average price','Turnover']:\n",
      "    df_n[col_name] = df_n[col_name].apply(lambda x: float(str(x).replace(\",\",\".\")))\n",
      "df_n.rename(columns={'Opening price': 'Open', 'High price': 'High', 'Low price': 'Low', 'Closing price': 'Close', 'Total volume': 'Volume'}, inplace=True)\n",
      "df_n['Adj Close'] = df_n.Close\n",
      "\n",
      "# NOTE: If \"Open\" eq NA or 0 then change to mean of high and low \n",
      "df_n.ix[pd.isnull(df_n.Open),'Open'] = 0\n",
      "\n",
      "ix = df_n.Open == 0\n",
      "df_n.Open[ix] = np.mean([df_n.High[ix],df_n.Low[ix]]) \n",
      "\n",
      "df_n.to_csv(filename_out,columns=[\"Date\",\"Open\",\"High\",\"Low\",\"Close\",\"Volume\",\"Adj Close\"],sep=\",\",index=False)\n",
      "\n",
      "# TODO: Impute missing data (NZYM)"
     ],
     "language": "python",
     "metadata": {},
     "outputs": [],
     "prompt_number": 9
    },
    {
     "cell_type": "markdown",
     "metadata": {},
     "source": [
      "# Trading example"
     ]
    },
    {
     "cell_type": "code",
     "collapsed": false,
     "input": [
      "stock_id = \"orcl\"\n",
      "stock_data = \"../../Stockprices/Nasdaq/sorcl-2000.csv\""
     ],
     "language": "python",
     "metadata": {},
     "outputs": [],
     "prompt_number": 64
    },
    {
     "cell_type": "code",
     "collapsed": false,
     "input": [
      "stock_id = \"nzym\"\n",
      "stock_data = \"../../Stockprices/Nasdaqomxnordic/NZYM-B-2000-09-24-2015-10-23_yahooformat.csv\""
     ],
     "language": "python",
     "metadata": {},
     "outputs": [],
     "prompt_number": 6
    },
    {
     "cell_type": "code",
     "collapsed": false,
     "input": [
      "stock_id = \"fls\"\n",
      "stock_data = \"../../Stockprices/Nasdaqomxnordic/FLS-1990-01-01-2010-01-01_yahooformat.csv\""
     ],
     "language": "python",
     "metadata": {},
     "outputs": [],
     "prompt_number": 10
    },
    {
     "cell_type": "code",
     "collapsed": false,
     "input": [
      "from pyalgotrade import strategy\n",
      "from pyalgotrade.barfeed import yahoofeed\n",
      "from pyalgotrade.technical import ma\n",
      "\n",
      "\n",
      "class MyStrategy(strategy.BacktestingStrategy):\n",
      "    def __init__(self, feed, instrument, smaPeriod):\n",
      "        strategy.BacktestingStrategy.__init__(self, feed, 10000)\n",
      "        self.__position = None\n",
      "        self.__instrument = instrument\n",
      "        # We'll use adjusted close values instead of regular close values.\n",
      "        self.setUseAdjustedValues(True)\n",
      "        self.__sma = ma.SMA(feed[instrument].getPriceDataSeries(), smaPeriod)\n",
      "\n",
      "    def onEnterOk(self, position):\n",
      "        execInfo = position.getEntryOrder().getExecutionInfo()\n",
      "        self.info(\"BUY at $%.2f\" % (execInfo.getPrice()))\n",
      "\n",
      "    def onEnterCanceled(self, position):\n",
      "        self.__position = None\n",
      "\n",
      "    def onExitOk(self, position):\n",
      "        execInfo = position.getExitOrder().getExecutionInfo()\n",
      "        self.info(\"SELL at $%.2f\" % (execInfo.getPrice()))\n",
      "        self.__position = None\n",
      "\n",
      "    def onExitCanceled(self, position):\n",
      "        # If the exit was canceled, re-submit it.\n",
      "        self.__position.exitMarket()\n",
      "\n",
      "    def onBars(self, bars):\n",
      "        # Wait for enough bars to be available to calculate a SMA.\n",
      "        if self.__sma[-1] is None:\n",
      "            return\n",
      "\n",
      "        bar = bars[self.__instrument]\n",
      "        # If a position was not opened, check if we should enter a long position.\n",
      "        if self.__position is None:\n",
      "            if bar.getPrice() > self.__sma[-1]:\n",
      "                # Enter a buy market order for 10 shares. The order is good till canceled.\n",
      "                self.__position = self.enterLong(self.__instrument, 10, True)\n",
      "        # Check if we have to exit the position.\n",
      "        elif bar.getPrice() < self.__sma[-1] and not self.__position.exitActive():\n",
      "            self.__position.exitMarket()\n",
      "\n",
      "\n",
      "def run_strategy(smaPeriod):\n",
      "    # Load the yahoo feed from the CSV file\n",
      "    feed = yahoofeed.Feed()\n",
      "    feed.addBarsFromCSV(stock_id, stock_data)\n",
      "\n",
      "    # Evaluate the strategy with the feed.\n",
      "    myStrategy = MyStrategy(feed, stock_id , smaPeriod)\n",
      "    myStrategy.run()\n",
      "    print \"Final portfolio value: $%.2f\" % myStrategy.getBroker().getEquity()\n",
      "\n",
      "run_strategy(15)"
     ],
     "language": "python",
     "metadata": {},
     "outputs": [
      {
       "output_type": "stream",
       "stream": "stderr",
       "text": [
        "INFO:strategy:BUY at $143.00\n"
       ]
      },
      {
       "output_type": "stream",
       "stream": "stderr",
       "text": [
        "2000-11-06 00:00:00 strategy [INFO] BUY at $143.00\n"
       ]
      },
      {
       "output_type": "stream",
       "stream": "stderr",
       "text": [
        "INFO:strategy:SELL at $136.50\n"
       ]
      },
      {
       "output_type": "stream",
       "stream": "stderr",
       "text": [
        "2000-11-13 00:00:00 strategy [INFO] SELL at $136.50\n"
       ]
      },
      {
       "output_type": "stream",
       "stream": "stderr",
       "text": [
        "INFO:strategy:BUY at $138.00\n"
       ]
      },
      {
       "output_type": "stream",
       "stream": "stderr",
       "text": [
        "2000-11-21 00:00:00 strategy [INFO] BUY at $138.00\n"
       ]
      },
      {
       "output_type": "stream",
       "stream": "stderr",
       "text": [
        "INFO:strategy:SELL at $132.50\n"
       ]
      },
      {
       "output_type": "stream",
       "stream": "stderr",
       "text": [
        "2000-11-22 00:00:00 strategy [INFO] SELL at $132.50\n"
       ]
      },
      {
       "output_type": "stream",
       "stream": "stderr",
       "text": [
        "INFO:strategy:BUY at $117.50\n"
       ]
      },
      {
       "output_type": "stream",
       "stream": "stderr",
       "text": [
        "2001-01-03 00:00:00 strategy [INFO] BUY at $117.50\n"
       ]
      },
      {
       "output_type": "stream",
       "stream": "stderr",
       "text": [
        "INFO:strategy:SELL at $117.50\n"
       ]
      },
      {
       "output_type": "stream",
       "stream": "stderr",
       "text": [
        "2001-01-04 00:00:00 strategy [INFO] SELL at $117.50\n"
       ]
      },
      {
       "output_type": "stream",
       "stream": "stderr",
       "text": [
        "INFO:strategy:BUY at $118.50\n"
       ]
      },
      {
       "output_type": "stream",
       "stream": "stderr",
       "text": [
        "2001-01-05 00:00:00 strategy [INFO] BUY at $118.50\n"
       ]
      },
      {
       "output_type": "stream",
       "stream": "stderr",
       "text": [
        "INFO:strategy:SELL at $116.00\n"
       ]
      },
      {
       "output_type": "stream",
       "stream": "stderr",
       "text": [
        "2001-01-09 00:00:00 strategy [INFO] SELL at $116.00\n"
       ]
      },
      {
       "output_type": "stream",
       "stream": "stderr",
       "text": [
        "INFO:strategy:BUY at $118.50\n"
       ]
      },
      {
       "output_type": "stream",
       "stream": "stderr",
       "text": [
        "2001-01-16 00:00:00 strategy [INFO] BUY at $118.50\n"
       ]
      },
      {
       "output_type": "stream",
       "stream": "stderr",
       "text": [
        "INFO:strategy:SELL at $118.25\n"
       ]
      },
      {
       "output_type": "stream",
       "stream": "stderr",
       "text": [
        "2001-01-25 00:00:00 strategy [INFO] SELL at $118.25\n"
       ]
      },
      {
       "output_type": "stream",
       "stream": "stderr",
       "text": [
        "INFO:strategy:BUY at $117.75\n"
       ]
      },
      {
       "output_type": "stream",
       "stream": "stderr",
       "text": [
        "2001-01-26 00:00:00 strategy [INFO] BUY at $117.75\n"
       ]
      },
      {
       "output_type": "stream",
       "stream": "stderr",
       "text": [
        "INFO:strategy:SELL at $116.75\n"
       ]
      },
      {
       "output_type": "stream",
       "stream": "stderr",
       "text": [
        "2001-01-30 00:00:00 strategy [INFO] SELL at $116.75\n"
       ]
      },
      {
       "output_type": "stream",
       "stream": "stderr",
       "text": [
        "INFO:strategy:BUY at $119.00\n"
       ]
      },
      {
       "output_type": "stream",
       "stream": "stderr",
       "text": [
        "2001-02-09 00:00:00 strategy [INFO] BUY at $119.00\n"
       ]
      },
      {
       "output_type": "stream",
       "stream": "stderr",
       "text": [
        "INFO:strategy:SELL at $118.00\n"
       ]
      },
      {
       "output_type": "stream",
       "stream": "stderr",
       "text": [
        "2001-02-15 00:00:00 strategy [INFO] SELL at $118.00\n"
       ]
      },
      {
       "output_type": "stream",
       "stream": "stderr",
       "text": [
        "INFO:strategy:BUY at $117.00\n"
       ]
      },
      {
       "output_type": "stream",
       "stream": "stderr",
       "text": [
        "2001-02-19 00:00:00 strategy [INFO] BUY at $117.00\n"
       ]
      },
      {
       "output_type": "stream",
       "stream": "stderr",
       "text": [
        "INFO:strategy:SELL at $116.25\n"
       ]
      },
      {
       "output_type": "stream",
       "stream": "stderr",
       "text": [
        "2001-02-20 00:00:00 strategy [INFO] SELL at $116.25\n"
       ]
      },
      {
       "output_type": "stream",
       "stream": "stderr",
       "text": [
        "INFO:strategy:BUY at $116.43\n"
       ]
      },
      {
       "output_type": "stream",
       "stream": "stderr",
       "text": [
        "2001-03-08 00:00:00 strategy [INFO] BUY at $116.43\n"
       ]
      },
      {
       "output_type": "stream",
       "stream": "stderr",
       "text": [
        "INFO:strategy:SELL at $110.50\n"
       ]
      },
      {
       "output_type": "stream",
       "stream": "stderr",
       "text": [
        "2001-03-14 00:00:00 strategy [INFO] SELL at $110.50\n"
       ]
      },
      {
       "output_type": "stream",
       "stream": "stderr",
       "text": [
        "INFO:strategy:BUY at $111.25\n"
       ]
      },
      {
       "output_type": "stream",
       "stream": "stderr",
       "text": [
        "2001-03-16 00:00:00 strategy [INFO] BUY at $111.25\n"
       ]
      },
      {
       "output_type": "stream",
       "stream": "stderr",
       "text": [
        "INFO:strategy:SELL at $109.75\n"
       ]
      },
      {
       "output_type": "stream",
       "stream": "stderr",
       "text": [
        "2001-03-19 00:00:00 strategy [INFO] SELL at $109.75\n"
       ]
      },
      {
       "output_type": "stream",
       "stream": "stderr",
       "text": [
        "INFO:strategy:BUY at $102.50\n"
       ]
      },
      {
       "output_type": "stream",
       "stream": "stderr",
       "text": [
        "2001-04-10 00:00:00 strategy [INFO] BUY at $102.50\n"
       ]
      },
      {
       "output_type": "stream",
       "stream": "stderr",
       "text": [
        "INFO:strategy:SELL at $103.50\n"
       ]
      },
      {
       "output_type": "stream",
       "stream": "stderr",
       "text": [
        "2001-04-17 00:00:00 strategy [INFO] SELL at $103.50\n"
       ]
      },
      {
       "output_type": "stream",
       "stream": "stderr",
       "text": [
        "INFO:strategy:BUY at $109.50\n"
       ]
      },
      {
       "output_type": "stream",
       "stream": "stderr",
       "text": [
        "2001-04-18 00:00:00 strategy [INFO] BUY at $109.50\n"
       ]
      },
      {
       "output_type": "stream",
       "stream": "stderr",
       "text": [
        "INFO:strategy:SELL at $103.25\n"
       ]
      },
      {
       "output_type": "stream",
       "stream": "stderr",
       "text": [
        "2001-04-24 00:00:00 strategy [INFO] SELL at $103.25\n"
       ]
      },
      {
       "output_type": "stream",
       "stream": "stderr",
       "text": [
        "INFO:strategy:BUY at $108.50\n"
       ]
      },
      {
       "output_type": "stream",
       "stream": "stderr",
       "text": [
        "2001-04-26 00:00:00 strategy [INFO] BUY at $108.50\n"
       ]
      },
      {
       "output_type": "stream",
       "stream": "stderr",
       "text": [
        "INFO:strategy:SELL at $113.00\n"
       ]
      },
      {
       "output_type": "stream",
       "stream": "stderr",
       "text": [
        "2001-05-18 00:00:00 strategy [INFO] SELL at $113.00\n"
       ]
      },
      {
       "output_type": "stream",
       "stream": "stderr",
       "text": [
        "INFO:strategy:BUY at $116.00\n"
       ]
      },
      {
       "output_type": "stream",
       "stream": "stderr",
       "text": [
        "2001-05-22 00:00:00 strategy [INFO] BUY at $116.00\n"
       ]
      },
      {
       "output_type": "stream",
       "stream": "stderr",
       "text": [
        "INFO:strategy:SELL at $110.75\n"
       ]
      },
      {
       "output_type": "stream",
       "stream": "stderr",
       "text": [
        "2001-05-30 00:00:00 strategy [INFO] SELL at $110.75\n"
       ]
      },
      {
       "output_type": "stream",
       "stream": "stderr",
       "text": [
        "INFO:strategy:BUY at $111.50\n"
       ]
      },
      {
       "output_type": "stream",
       "stream": "stderr",
       "text": [
        "2001-06-07 00:00:00 strategy [INFO] BUY at $111.50\n"
       ]
      },
      {
       "output_type": "stream",
       "stream": "stderr",
       "text": [
        "INFO:strategy:SELL at $111.00\n"
       ]
      },
      {
       "output_type": "stream",
       "stream": "stderr",
       "text": [
        "2001-06-08 00:00:00 strategy [INFO] SELL at $111.00\n"
       ]
      },
      {
       "output_type": "stream",
       "stream": "stderr",
       "text": [
        "INFO:strategy:BUY at $99.00\n"
       ]
      },
      {
       "output_type": "stream",
       "stream": "stderr",
       "text": [
        "2001-07-04 00:00:00 strategy [INFO] BUY at $99.00\n"
       ]
      },
      {
       "output_type": "stream",
       "stream": "stderr",
       "text": [
        "INFO:strategy:SELL at $96.50\n"
       ]
      },
      {
       "output_type": "stream",
       "stream": "stderr",
       "text": [
        "2001-07-16 00:00:00 strategy [INFO] SELL at $96.50\n"
       ]
      },
      {
       "output_type": "stream",
       "stream": "stderr",
       "text": [
        "INFO:strategy:BUY at $95.50\n"
       ]
      },
      {
       "output_type": "stream",
       "stream": "stderr",
       "text": [
        "2001-07-17 00:00:00 strategy [INFO] BUY at $95.50\n"
       ]
      },
      {
       "output_type": "stream",
       "stream": "stderr",
       "text": [
        "INFO:strategy:SELL at $97.50\n"
       ]
      },
      {
       "output_type": "stream",
       "stream": "stderr",
       "text": [
        "2001-07-18 00:00:00 strategy [INFO] SELL at $97.50\n"
       ]
      },
      {
       "output_type": "stream",
       "stream": "stderr",
       "text": [
        "INFO:strategy:BUY at $98.00\n"
       ]
      },
      {
       "output_type": "stream",
       "stream": "stderr",
       "text": [
        "2001-07-19 00:00:00 strategy [INFO] BUY at $98.00\n"
       ]
      },
      {
       "output_type": "stream",
       "stream": "stderr",
       "text": [
        "INFO:strategy:SELL at $98.75\n"
       ]
      },
      {
       "output_type": "stream",
       "stream": "stderr",
       "text": [
        "2001-07-24 00:00:00 strategy [INFO] SELL at $98.75\n"
       ]
      },
      {
       "output_type": "stream",
       "stream": "stderr",
       "text": [
        "INFO:strategy:BUY at $99.25\n"
       ]
      },
      {
       "output_type": "stream",
       "stream": "stderr",
       "text": [
        "2001-07-25 00:00:00 strategy [INFO] BUY at $99.25\n"
       ]
      },
      {
       "output_type": "stream",
       "stream": "stderr",
       "text": [
        "INFO:strategy:SELL at $97.75\n"
       ]
      },
      {
       "output_type": "stream",
       "stream": "stderr",
       "text": [
        "2001-08-01 00:00:00 strategy [INFO] SELL at $97.75\n"
       ]
      },
      {
       "output_type": "stream",
       "stream": "stderr",
       "text": [
        "INFO:strategy:BUY at $95.00\n"
       ]
      },
      {
       "output_type": "stream",
       "stream": "stderr",
       "text": [
        "2001-08-21 00:00:00 strategy [INFO] BUY at $95.00\n"
       ]
      },
      {
       "output_type": "stream",
       "stream": "stderr",
       "text": [
        "INFO:strategy:SELL at $93.00\n"
       ]
      },
      {
       "output_type": "stream",
       "stream": "stderr",
       "text": [
        "2001-08-28 00:00:00 strategy [INFO] SELL at $93.00\n"
       ]
      },
      {
       "output_type": "stream",
       "stream": "stderr",
       "text": [
        "INFO:strategy:BUY at $93.00\n"
       ]
      },
      {
       "output_type": "stream",
       "stream": "stderr",
       "text": [
        "2001-09-06 00:00:00 strategy [INFO] BUY at $93.00\n"
       ]
      },
      {
       "output_type": "stream",
       "stream": "stderr",
       "text": [
        "INFO:strategy:SELL at $91.50\n"
       ]
      },
      {
       "output_type": "stream",
       "stream": "stderr",
       "text": [
        "2001-09-11 00:00:00 strategy [INFO] SELL at $91.50\n"
       ]
      },
      {
       "output_type": "stream",
       "stream": "stderr",
       "text": [
        "INFO:strategy:BUY at $80.00\n"
       ]
      },
      {
       "output_type": "stream",
       "stream": "stderr",
       "text": [
        "2001-10-05 00:00:00 strategy [INFO] BUY at $80.00\n"
       ]
      },
      {
       "output_type": "stream",
       "stream": "stderr",
       "text": [
        "INFO:strategy:SELL at $74.75\n"
       ]
      },
      {
       "output_type": "stream",
       "stream": "stderr",
       "text": [
        "2001-10-09 00:00:00 strategy [INFO] SELL at $74.75\n"
       ]
      },
      {
       "output_type": "stream",
       "stream": "stderr",
       "text": [
        "INFO:strategy:BUY at $77.25\n"
       ]
      },
      {
       "output_type": "stream",
       "stream": "stderr",
       "text": [
        "2001-10-10 00:00:00 strategy [INFO] BUY at $77.25\n"
       ]
      },
      {
       "output_type": "stream",
       "stream": "stderr",
       "text": [
        "INFO:strategy:SELL at $76.75\n"
       ]
      },
      {
       "output_type": "stream",
       "stream": "stderr",
       "text": [
        "2001-10-19 00:00:00 strategy [INFO] SELL at $76.75\n"
       ]
      },
      {
       "output_type": "stream",
       "stream": "stderr",
       "text": [
        "INFO:strategy:BUY at $67.00\n"
       ]
      },
      {
       "output_type": "stream",
       "stream": "stderr",
       "text": [
        "2001-11-16 00:00:00 strategy [INFO] BUY at $67.00\n"
       ]
      },
      {
       "output_type": "stream",
       "stream": "stderr",
       "text": [
        "INFO:strategy:SELL at $66.50\n"
       ]
      },
      {
       "output_type": "stream",
       "stream": "stderr",
       "text": [
        "2001-11-19 00:00:00 strategy [INFO] SELL at $66.50\n"
       ]
      },
      {
       "output_type": "stream",
       "stream": "stderr",
       "text": [
        "INFO:strategy:BUY at $64.50\n"
       ]
      },
      {
       "output_type": "stream",
       "stream": "stderr",
       "text": [
        "2001-11-26 00:00:00 strategy [INFO] BUY at $64.50\n"
       ]
      },
      {
       "output_type": "stream",
       "stream": "stderr",
       "text": [
        "INFO:strategy:SELL at $63.75\n"
       ]
      },
      {
       "output_type": "stream",
       "stream": "stderr",
       "text": [
        "2001-11-27 00:00:00 strategy [INFO] SELL at $63.75\n"
       ]
      },
      {
       "output_type": "stream",
       "stream": "stderr",
       "text": [
        "INFO:strategy:BUY at $65.25\n"
       ]
      },
      {
       "output_type": "stream",
       "stream": "stderr",
       "text": [
        "2001-12-20 00:00:00 strategy [INFO] BUY at $65.25\n"
       ]
      },
      {
       "output_type": "stream",
       "stream": "stderr",
       "text": [
        "INFO:strategy:SELL at $68.75\n"
       ]
      },
      {
       "output_type": "stream",
       "stream": "stderr",
       "text": [
        "2002-01-15 00:00:00 strategy [INFO] SELL at $68.75\n"
       ]
      },
      {
       "output_type": "stream",
       "stream": "stderr",
       "text": [
        "INFO:strategy:BUY at $69.00\n"
       ]
      },
      {
       "output_type": "stream",
       "stream": "stderr",
       "text": [
        "2002-01-16 00:00:00 strategy [INFO] BUY at $69.00\n"
       ]
      },
      {
       "output_type": "stream",
       "stream": "stderr",
       "text": [
        "INFO:strategy:SELL at $70.75\n"
       ]
      },
      {
       "output_type": "stream",
       "stream": "stderr",
       "text": [
        "2002-01-17 00:00:00 strategy [INFO] SELL at $70.75\n"
       ]
      },
      {
       "output_type": "stream",
       "stream": "stderr",
       "text": [
        "INFO:strategy:BUY at $73.25\n"
       ]
      },
      {
       "output_type": "stream",
       "stream": "stderr",
       "text": [
        "2002-01-18 00:00:00 strategy [INFO] BUY at $73.25\n"
       ]
      },
      {
       "output_type": "stream",
       "stream": "stderr",
       "text": [
        "INFO:strategy:SELL at $75.75\n"
       ]
      },
      {
       "output_type": "stream",
       "stream": "stderr",
       "text": [
        "2002-02-12 00:00:00 strategy [INFO] SELL at $75.75\n"
       ]
      },
      {
       "output_type": "stream",
       "stream": "stderr",
       "text": [
        "INFO:strategy:BUY at $74.75\n"
       ]
      },
      {
       "output_type": "stream",
       "stream": "stderr",
       "text": [
        "2002-02-13 00:00:00 strategy [INFO] BUY at $74.75\n"
       ]
      },
      {
       "output_type": "stream",
       "stream": "stderr",
       "text": [
        "INFO:strategy:SELL at $75.25\n"
       ]
      },
      {
       "output_type": "stream",
       "stream": "stderr",
       "text": [
        "2002-02-14 00:00:00 strategy [INFO] SELL at $75.25\n"
       ]
      },
      {
       "output_type": "stream",
       "stream": "stderr",
       "text": [
        "INFO:strategy:BUY at $74.75\n"
       ]
      },
      {
       "output_type": "stream",
       "stream": "stderr",
       "text": [
        "2002-02-28 00:00:00 strategy [INFO] BUY at $74.75\n"
       ]
      },
      {
       "output_type": "stream",
       "stream": "stderr",
       "text": [
        "INFO:strategy:SELL at $74.50\n"
       ]
      },
      {
       "output_type": "stream",
       "stream": "stderr",
       "text": [
        "2002-03-01 00:00:00 strategy [INFO] SELL at $74.50\n"
       ]
      },
      {
       "output_type": "stream",
       "stream": "stderr",
       "text": [
        "INFO:strategy:BUY at $77.25\n"
       ]
      },
      {
       "output_type": "stream",
       "stream": "stderr",
       "text": [
        "2002-03-04 00:00:00 strategy [INFO] BUY at $77.25\n"
       ]
      },
      {
       "output_type": "stream",
       "stream": "stderr",
       "text": [
        "INFO:strategy:SELL at $73.50\n"
       ]
      },
      {
       "output_type": "stream",
       "stream": "stderr",
       "text": [
        "2002-03-12 00:00:00 strategy [INFO] SELL at $73.50\n"
       ]
      },
      {
       "output_type": "stream",
       "stream": "stderr",
       "text": [
        "INFO:strategy:BUY at $80.25\n"
       ]
      },
      {
       "output_type": "stream",
       "stream": "stderr",
       "text": [
        "2002-03-25 00:00:00 strategy [INFO] BUY at $80.25\n"
       ]
      },
      {
       "output_type": "stream",
       "stream": "stderr",
       "text": [
        "INFO:strategy:SELL at $104.00\n"
       ]
      },
      {
       "output_type": "stream",
       "stream": "stderr",
       "text": [
        "2002-05-29 00:00:00 strategy [INFO] SELL at $104.00\n"
       ]
      },
      {
       "output_type": "stream",
       "stream": "stderr",
       "text": [
        "INFO:strategy:BUY at $97.50\n"
       ]
      },
      {
       "output_type": "stream",
       "stream": "stderr",
       "text": [
        "2002-07-01 00:00:00 strategy [INFO] BUY at $97.50\n"
       ]
      },
      {
       "output_type": "stream",
       "stream": "stderr",
       "text": [
        "INFO:strategy:SELL at $97.00\n"
       ]
      },
      {
       "output_type": "stream",
       "stream": "stderr",
       "text": [
        "2002-07-12 00:00:00 strategy [INFO] SELL at $97.00\n"
       ]
      },
      {
       "output_type": "stream",
       "stream": "stderr",
       "text": [
        "INFO:strategy:BUY at $90.00\n"
       ]
      },
      {
       "output_type": "stream",
       "stream": "stderr",
       "text": [
        "2002-08-21 00:00:00 strategy [INFO] BUY at $90.00\n"
       ]
      },
      {
       "output_type": "stream",
       "stream": "stderr",
       "text": [
        "INFO:strategy:SELL at $86.00\n"
       ]
      },
      {
       "output_type": "stream",
       "stream": "stderr",
       "text": [
        "2002-08-30 00:00:00 strategy [INFO] SELL at $86.00\n"
       ]
      },
      {
       "output_type": "stream",
       "stream": "stderr",
       "text": [
        "INFO:strategy:BUY at $87.00\n"
       ]
      },
      {
       "output_type": "stream",
       "stream": "stderr",
       "text": [
        "2002-09-03 00:00:00 strategy [INFO] BUY at $87.00\n"
       ]
      },
      {
       "output_type": "stream",
       "stream": "stderr",
       "text": [
        "INFO:strategy:SELL at $88.50\n"
       ]
      },
      {
       "output_type": "stream",
       "stream": "stderr",
       "text": [
        "2002-09-13 00:00:00 strategy [INFO] SELL at $88.50\n"
       ]
      },
      {
       "output_type": "stream",
       "stream": "stderr",
       "text": [
        "INFO:strategy:BUY at $88.75\n"
       ]
      },
      {
       "output_type": "stream",
       "stream": "stderr",
       "text": [
        "2002-09-16 00:00:00 strategy [INFO] BUY at $88.75\n"
       ]
      },
      {
       "output_type": "stream",
       "stream": "stderr",
       "text": [
        "INFO:strategy:SELL at $88.50\n"
       ]
      },
      {
       "output_type": "stream",
       "stream": "stderr",
       "text": [
        "2002-09-20 00:00:00 strategy [INFO] SELL at $88.50\n"
       ]
      },
      {
       "output_type": "stream",
       "stream": "stderr",
       "text": [
        "INFO:strategy:BUY at $88.50\n"
       ]
      },
      {
       "output_type": "stream",
       "stream": "stderr",
       "text": [
        "2002-09-23 00:00:00 strategy [INFO] BUY at $88.50\n"
       ]
      },
      {
       "output_type": "stream",
       "stream": "stderr",
       "text": [
        "INFO:strategy:SELL at $84.50\n"
       ]
      },
      {
       "output_type": "stream",
       "stream": "stderr",
       "text": [
        "2002-09-25 00:00:00 strategy [INFO] SELL at $84.50\n"
       ]
      },
      {
       "output_type": "stream",
       "stream": "stderr",
       "text": [
        "INFO:strategy:BUY at $87.00\n"
       ]
      },
      {
       "output_type": "stream",
       "stream": "stderr",
       "text": [
        "2002-09-30 00:00:00 strategy [INFO] BUY at $87.00\n"
       ]
      },
      {
       "output_type": "stream",
       "stream": "stderr",
       "text": [
        "INFO:strategy:SELL at $85.25\n"
       ]
      },
      {
       "output_type": "stream",
       "stream": "stderr",
       "text": [
        "2002-10-01 00:00:00 strategy [INFO] SELL at $85.25\n"
       ]
      },
      {
       "output_type": "stream",
       "stream": "stderr",
       "text": [
        "INFO:strategy:BUY at $54.00\n"
       ]
      },
      {
       "output_type": "stream",
       "stream": "stderr",
       "text": [
        "2002-12-27 00:00:00 strategy [INFO] BUY at $54.00\n"
       ]
      },
      {
       "output_type": "stream",
       "stream": "stderr",
       "text": [
        "INFO:strategy:SELL at $54.50\n"
       ]
      },
      {
       "output_type": "stream",
       "stream": "stderr",
       "text": [
        "2003-01-20 00:00:00 strategy [INFO] SELL at $54.50\n"
       ]
      },
      {
       "output_type": "stream",
       "stream": "stderr",
       "text": [
        "INFO:strategy:BUY at $52.25\n"
       ]
      },
      {
       "output_type": "stream",
       "stream": "stderr",
       "text": [
        "2003-01-27 00:00:00 strategy [INFO] BUY at $52.25\n"
       ]
      },
      {
       "output_type": "stream",
       "stream": "stderr",
       "text": [
        "INFO:strategy:SELL at $51.25\n"
       ]
      },
      {
       "output_type": "stream",
       "stream": "stderr",
       "text": [
        "2003-01-28 00:00:00 strategy [INFO] SELL at $51.25\n"
       ]
      },
      {
       "output_type": "stream",
       "stream": "stderr",
       "text": [
        "INFO:strategy:BUY at $53.50\n"
       ]
      },
      {
       "output_type": "stream",
       "stream": "stderr",
       "text": [
        "2003-02-07 00:00:00 strategy [INFO] BUY at $53.50\n"
       ]
      },
      {
       "output_type": "stream",
       "stream": "stderr",
       "text": [
        "INFO:strategy:SELL at $51.25\n"
       ]
      },
      {
       "output_type": "stream",
       "stream": "stderr",
       "text": [
        "2003-02-13 00:00:00 strategy [INFO] SELL at $51.25\n"
       ]
      },
      {
       "output_type": "stream",
       "stream": "stderr",
       "text": [
        "INFO:strategy:BUY at $48.00\n"
       ]
      },
      {
       "output_type": "stream",
       "stream": "stderr",
       "text": [
        "2003-03-13 00:00:00 strategy [INFO] BUY at $48.00\n"
       ]
      },
      {
       "output_type": "stream",
       "stream": "stderr",
       "text": [
        "INFO:strategy:SELL at $44.30\n"
       ]
      },
      {
       "output_type": "stream",
       "stream": "stderr",
       "text": [
        "2003-03-18 00:00:00 strategy [INFO] SELL at $44.30\n"
       ]
      },
      {
       "output_type": "stream",
       "stream": "stderr",
       "text": [
        "INFO:strategy:BUY at $47.00\n"
       ]
      },
      {
       "output_type": "stream",
       "stream": "stderr",
       "text": [
        "2003-03-24 00:00:00 strategy [INFO] BUY at $47.00\n"
       ]
      },
      {
       "output_type": "stream",
       "stream": "stderr",
       "text": [
        "INFO:strategy:SELL at $45.05\n"
       ]
      },
      {
       "output_type": "stream",
       "stream": "stderr",
       "text": [
        "2003-03-28 00:00:00 strategy [INFO] SELL at $45.05\n"
       ]
      },
      {
       "output_type": "stream",
       "stream": "stderr",
       "text": [
        "INFO:strategy:BUY at $46.75\n"
       ]
      },
      {
       "output_type": "stream",
       "stream": "stderr",
       "text": [
        "2003-04-04 00:00:00 strategy [INFO] BUY at $46.75\n"
       ]
      },
      {
       "output_type": "stream",
       "stream": "stderr",
       "text": [
        "INFO:strategy:SELL at $56.75\n"
       ]
      },
      {
       "output_type": "stream",
       "stream": "stderr",
       "text": [
        "2003-05-12 00:00:00 strategy [INFO] SELL at $56.75\n"
       ]
      },
      {
       "output_type": "stream",
       "stream": "stderr",
       "text": [
        "INFO:strategy:BUY at $57.25\n"
       ]
      },
      {
       "output_type": "stream",
       "stream": "stderr",
       "text": [
        "2003-05-13 00:00:00 strategy [INFO] BUY at $57.25\n"
       ]
      },
      {
       "output_type": "stream",
       "stream": "stderr",
       "text": [
        "INFO:strategy:SELL at $55.75\n"
       ]
      },
      {
       "output_type": "stream",
       "stream": "stderr",
       "text": [
        "2003-05-20 00:00:00 strategy [INFO] SELL at $55.75\n"
       ]
      },
      {
       "output_type": "stream",
       "stream": "stderr",
       "text": [
        "INFO:strategy:BUY at $58.25\n"
       ]
      },
      {
       "output_type": "stream",
       "stream": "stderr",
       "text": [
        "2003-05-26 00:00:00 strategy [INFO] BUY at $58.25\n"
       ]
      },
      {
       "output_type": "stream",
       "stream": "stderr",
       "text": [
        "INFO:strategy:SELL at $57.00\n"
       ]
      },
      {
       "output_type": "stream",
       "stream": "stderr",
       "text": [
        "2003-05-28 00:00:00 strategy [INFO] SELL at $57.00\n"
       ]
      },
      {
       "output_type": "stream",
       "stream": "stderr",
       "text": [
        "INFO:strategy:BUY at $59.50\n"
       ]
      },
      {
       "output_type": "stream",
       "stream": "stderr",
       "text": [
        "2003-06-02 00:00:00 strategy [INFO] BUY at $59.50\n"
       ]
      },
      {
       "output_type": "stream",
       "stream": "stderr",
       "text": [
        "INFO:strategy:SELL at $58.00\n"
       ]
      },
      {
       "output_type": "stream",
       "stream": "stderr",
       "text": [
        "2003-06-12 00:00:00 strategy [INFO] SELL at $58.00\n"
       ]
      },
      {
       "output_type": "stream",
       "stream": "stderr",
       "text": [
        "INFO:strategy:BUY at $57.75\n"
       ]
      },
      {
       "output_type": "stream",
       "stream": "stderr",
       "text": [
        "2003-06-13 00:00:00 strategy [INFO] BUY at $57.75\n"
       ]
      },
      {
       "output_type": "stream",
       "stream": "stderr",
       "text": [
        "INFO:strategy:SELL at $58.00\n"
       ]
      },
      {
       "output_type": "stream",
       "stream": "stderr",
       "text": [
        "2003-06-17 00:00:00 strategy [INFO] SELL at $58.00\n"
       ]
      },
      {
       "output_type": "stream",
       "stream": "stderr",
       "text": [
        "INFO:strategy:BUY at $57.75\n"
       ]
      },
      {
       "output_type": "stream",
       "stream": "stderr",
       "text": [
        "2003-06-18 00:00:00 strategy [INFO] BUY at $57.75\n"
       ]
      },
      {
       "output_type": "stream",
       "stream": "stderr",
       "text": [
        "INFO:strategy:SELL at $57.00\n"
       ]
      },
      {
       "output_type": "stream",
       "stream": "stderr",
       "text": [
        "2003-06-19 00:00:00 strategy [INFO] SELL at $57.00\n"
       ]
      },
      {
       "output_type": "stream",
       "stream": "stderr",
       "text": [
        "INFO:strategy:BUY at $55.00\n"
       ]
      },
      {
       "output_type": "stream",
       "stream": "stderr",
       "text": [
        "2003-07-09 00:00:00 strategy [INFO] BUY at $55.00\n"
       ]
      },
      {
       "output_type": "stream",
       "stream": "stderr",
       "text": [
        "INFO:strategy:SELL at $55.00\n"
       ]
      },
      {
       "output_type": "stream",
       "stream": "stderr",
       "text": [
        "2003-07-10 00:00:00 strategy [INFO] SELL at $55.00\n"
       ]
      },
      {
       "output_type": "stream",
       "stream": "stderr",
       "text": [
        "INFO:strategy:BUY at $56.00\n"
       ]
      },
      {
       "output_type": "stream",
       "stream": "stderr",
       "text": [
        "2003-07-15 00:00:00 strategy [INFO] BUY at $56.00\n"
       ]
      },
      {
       "output_type": "stream",
       "stream": "stderr",
       "text": [
        "INFO:strategy:SELL at $56.00\n"
       ]
      },
      {
       "output_type": "stream",
       "stream": "stderr",
       "text": [
        "2003-07-17 00:00:00 strategy [INFO] SELL at $56.00\n"
       ]
      },
      {
       "output_type": "stream",
       "stream": "stderr",
       "text": [
        "INFO:strategy:BUY at $55.50\n"
       ]
      },
      {
       "output_type": "stream",
       "stream": "stderr",
       "text": [
        "2003-07-18 00:00:00 strategy [INFO] BUY at $55.50\n"
       ]
      },
      {
       "output_type": "stream",
       "stream": "stderr",
       "text": [
        "INFO:strategy:SELL at $55.50\n"
       ]
      },
      {
       "output_type": "stream",
       "stream": "stderr",
       "text": [
        "2003-07-28 00:00:00 strategy [INFO] SELL at $55.50\n"
       ]
      },
      {
       "output_type": "stream",
       "stream": "stderr",
       "text": [
        "INFO:strategy:BUY at $55.75\n"
       ]
      },
      {
       "output_type": "stream",
       "stream": "stderr",
       "text": [
        "2003-07-29 00:00:00 strategy [INFO] BUY at $55.75\n"
       ]
      },
      {
       "output_type": "stream",
       "stream": "stderr",
       "text": [
        "INFO:strategy:SELL at $55.00\n"
       ]
      },
      {
       "output_type": "stream",
       "stream": "stderr",
       "text": [
        "2003-08-04 00:00:00 strategy [INFO] SELL at $55.00\n"
       ]
      },
      {
       "output_type": "stream",
       "stream": "stderr",
       "text": [
        "INFO:strategy:BUY at $55.25\n"
       ]
      },
      {
       "output_type": "stream",
       "stream": "stderr",
       "text": [
        "2003-08-07 00:00:00 strategy [INFO] BUY at $55.25\n"
       ]
      },
      {
       "output_type": "stream",
       "stream": "stderr",
       "text": [
        "INFO:strategy:SELL at $55.50\n"
       ]
      },
      {
       "output_type": "stream",
       "stream": "stderr",
       "text": [
        "2003-08-08 00:00:00 strategy [INFO] SELL at $55.50\n"
       ]
      },
      {
       "output_type": "stream",
       "stream": "stderr",
       "text": [
        "INFO:strategy:BUY at $56.25\n"
       ]
      },
      {
       "output_type": "stream",
       "stream": "stderr",
       "text": [
        "2003-08-11 00:00:00 strategy [INFO] BUY at $56.25\n"
       ]
      },
      {
       "output_type": "stream",
       "stream": "stderr",
       "text": [
        "INFO:strategy:SELL at $60.25\n"
       ]
      },
      {
       "output_type": "stream",
       "stream": "stderr",
       "text": [
        "2003-09-01 00:00:00 strategy [INFO] SELL at $60.25\n"
       ]
      },
      {
       "output_type": "stream",
       "stream": "stderr",
       "text": [
        "INFO:strategy:BUY at $71.00\n"
       ]
      },
      {
       "output_type": "stream",
       "stream": "stderr",
       "text": [
        "2003-09-17 00:00:00 strategy [INFO] BUY at $71.00\n"
       ]
      },
      {
       "output_type": "stream",
       "stream": "stderr",
       "text": [
        "INFO:strategy:SELL at $64.75\n"
       ]
      },
      {
       "output_type": "stream",
       "stream": "stderr",
       "text": [
        "2003-10-01 00:00:00 strategy [INFO] SELL at $64.75\n"
       ]
      },
      {
       "output_type": "stream",
       "stream": "stderr",
       "text": [
        "INFO:strategy:BUY at $70.25\n"
       ]
      },
      {
       "output_type": "stream",
       "stream": "stderr",
       "text": [
        "2003-10-08 00:00:00 strategy [INFO] BUY at $70.25\n"
       ]
      },
      {
       "output_type": "stream",
       "stream": "stderr",
       "text": [
        "INFO:strategy:SELL at $68.50\n"
       ]
      },
      {
       "output_type": "stream",
       "stream": "stderr",
       "text": [
        "2003-10-22 00:00:00 strategy [INFO] SELL at $68.50\n"
       ]
      },
      {
       "output_type": "stream",
       "stream": "stderr",
       "text": [
        "INFO:strategy:BUY at $67.50\n"
       ]
      },
      {
       "output_type": "stream",
       "stream": "stderr",
       "text": [
        "2003-10-23 00:00:00 strategy [INFO] BUY at $67.50\n"
       ]
      },
      {
       "output_type": "stream",
       "stream": "stderr",
       "text": [
        "INFO:strategy:SELL at $67.75\n"
       ]
      },
      {
       "output_type": "stream",
       "stream": "stderr",
       "text": [
        "2003-10-24 00:00:00 strategy [INFO] SELL at $67.75\n"
       ]
      },
      {
       "output_type": "stream",
       "stream": "stderr",
       "text": [
        "INFO:strategy:BUY at $68.25\n"
       ]
      },
      {
       "output_type": "stream",
       "stream": "stderr",
       "text": [
        "2003-10-31 00:00:00 strategy [INFO] BUY at $68.25\n"
       ]
      },
      {
       "output_type": "stream",
       "stream": "stderr",
       "text": [
        "INFO:strategy:SELL at $69.25\n"
       ]
      },
      {
       "output_type": "stream",
       "stream": "stderr",
       "text": [
        "2003-11-04 00:00:00 strategy [INFO] SELL at $69.25\n"
       ]
      },
      {
       "output_type": "stream",
       "stream": "stderr",
       "text": [
        "INFO:strategy:BUY at $69.75\n"
       ]
      },
      {
       "output_type": "stream",
       "stream": "stderr",
       "text": [
        "2003-11-05 00:00:00 strategy [INFO] BUY at $69.75\n"
       ]
      },
      {
       "output_type": "stream",
       "stream": "stderr",
       "text": [
        "INFO:strategy:SELL at $73.00\n"
       ]
      },
      {
       "output_type": "stream",
       "stream": "stderr",
       "text": [
        "2003-11-26 00:00:00 strategy [INFO] SELL at $73.00\n"
       ]
      },
      {
       "output_type": "stream",
       "stream": "stderr",
       "text": [
        "INFO:strategy:BUY at $70.75\n"
       ]
      },
      {
       "output_type": "stream",
       "stream": "stderr",
       "text": [
        "2003-12-18 00:00:00 strategy [INFO] BUY at $70.75\n"
       ]
      },
      {
       "output_type": "stream",
       "stream": "stderr",
       "text": [
        "INFO:strategy:SELL at $68.75\n"
       ]
      },
      {
       "output_type": "stream",
       "stream": "stderr",
       "text": [
        "2004-01-02 00:00:00 strategy [INFO] SELL at $68.75\n"
       ]
      },
      {
       "output_type": "stream",
       "stream": "stderr",
       "text": [
        "INFO:strategy:BUY at $69.25\n"
       ]
      },
      {
       "output_type": "stream",
       "stream": "stderr",
       "text": [
        "2004-01-15 00:00:00 strategy [INFO] BUY at $69.25\n"
       ]
      },
      {
       "output_type": "stream",
       "stream": "stderr",
       "text": [
        "INFO:strategy:SELL at $66.75\n"
       ]
      },
      {
       "output_type": "stream",
       "stream": "stderr",
       "text": [
        "2004-01-30 00:00:00 strategy [INFO] SELL at $66.75\n"
       ]
      },
      {
       "output_type": "stream",
       "stream": "stderr",
       "text": [
        "INFO:strategy:BUY at $69.25\n"
       ]
      },
      {
       "output_type": "stream",
       "stream": "stderr",
       "text": [
        "2004-03-05 00:00:00 strategy [INFO] BUY at $69.25\n"
       ]
      },
      {
       "output_type": "stream",
       "stream": "stderr",
       "text": [
        "INFO:strategy:SELL at $70.50\n"
       ]
      },
      {
       "output_type": "stream",
       "stream": "stderr",
       "text": [
        "2004-03-24 00:00:00 strategy [INFO] SELL at $70.50\n"
       ]
      },
      {
       "output_type": "stream",
       "stream": "stderr",
       "text": [
        "INFO:strategy:BUY at $72.25\n"
       ]
      },
      {
       "output_type": "stream",
       "stream": "stderr",
       "text": [
        "2004-04-01 00:00:00 strategy [INFO] BUY at $72.25\n"
       ]
      },
      {
       "output_type": "stream",
       "stream": "stderr",
       "text": [
        "INFO:strategy:SELL at $79.50\n"
       ]
      },
      {
       "output_type": "stream",
       "stream": "stderr",
       "text": [
        "2004-05-18 00:00:00 strategy [INFO] SELL at $79.50\n"
       ]
      },
      {
       "output_type": "stream",
       "stream": "stderr",
       "text": [
        "INFO:strategy:BUY at $82.50\n"
       ]
      },
      {
       "output_type": "stream",
       "stream": "stderr",
       "text": [
        "2004-06-01 00:00:00 strategy [INFO] BUY at $82.50\n"
       ]
      },
      {
       "output_type": "stream",
       "stream": "stderr",
       "text": [
        "INFO:strategy:SELL at $85.00\n"
       ]
      },
      {
       "output_type": "stream",
       "stream": "stderr",
       "text": [
        "2004-06-24 00:00:00 strategy [INFO] SELL at $85.00\n"
       ]
      },
      {
       "output_type": "stream",
       "stream": "stderr",
       "text": [
        "INFO:strategy:BUY at $85.50\n"
       ]
      },
      {
       "output_type": "stream",
       "stream": "stderr",
       "text": [
        "2004-06-28 00:00:00 strategy [INFO] BUY at $85.50\n"
       ]
      },
      {
       "output_type": "stream",
       "stream": "stderr",
       "text": [
        "INFO:strategy:SELL at $85.25\n"
       ]
      },
      {
       "output_type": "stream",
       "stream": "stderr",
       "text": [
        "2004-06-29 00:00:00 strategy [INFO] SELL at $85.25\n"
       ]
      },
      {
       "output_type": "stream",
       "stream": "stderr",
       "text": [
        "INFO:strategy:BUY at $85.50\n"
       ]
      },
      {
       "output_type": "stream",
       "stream": "stderr",
       "text": [
        "2004-06-30 00:00:00 strategy [INFO] BUY at $85.50\n"
       ]
      },
      {
       "output_type": "stream",
       "stream": "stderr",
       "text": [
        "INFO:strategy:SELL at $84.25\n"
       ]
      },
      {
       "output_type": "stream",
       "stream": "stderr",
       "text": [
        "2004-07-02 00:00:00 strategy [INFO] SELL at $84.25\n"
       ]
      },
      {
       "output_type": "stream",
       "stream": "stderr",
       "text": [
        "INFO:strategy:BUY at $85.50\n"
       ]
      },
      {
       "output_type": "stream",
       "stream": "stderr",
       "text": [
        "2004-07-06 00:00:00 strategy [INFO] BUY at $85.50\n"
       ]
      },
      {
       "output_type": "stream",
       "stream": "stderr",
       "text": [
        "INFO:strategy:SELL at $84.25\n"
       ]
      },
      {
       "output_type": "stream",
       "stream": "stderr",
       "text": [
        "2004-07-13 00:00:00 strategy [INFO] SELL at $84.25\n"
       ]
      },
      {
       "output_type": "stream",
       "stream": "stderr",
       "text": [
        "INFO:strategy:BUY at $83.25\n"
       ]
      },
      {
       "output_type": "stream",
       "stream": "stderr",
       "text": [
        "2004-07-30 00:00:00 strategy [INFO] BUY at $83.25\n"
       ]
      },
      {
       "output_type": "stream",
       "stream": "stderr",
       "text": [
        "INFO:strategy:SELL at $82.75\n"
       ]
      },
      {
       "output_type": "stream",
       "stream": "stderr",
       "text": [
        "2004-08-04 00:00:00 strategy [INFO] SELL at $82.75\n"
       ]
      },
      {
       "output_type": "stream",
       "stream": "stderr",
       "text": [
        "INFO:strategy:BUY at $74.25\n"
       ]
      },
      {
       "output_type": "stream",
       "stream": "stderr",
       "text": [
        "2004-09-07 00:00:00 strategy [INFO] BUY at $74.25\n"
       ]
      },
      {
       "output_type": "stream",
       "stream": "stderr",
       "text": [
        "INFO:strategy:SELL at $74.00\n"
       ]
      },
      {
       "output_type": "stream",
       "stream": "stderr",
       "text": [
        "2004-09-08 00:00:00 strategy [INFO] SELL at $74.00\n"
       ]
      },
      {
       "output_type": "stream",
       "stream": "stderr",
       "text": [
        "INFO:strategy:BUY at $74.25\n"
       ]
      },
      {
       "output_type": "stream",
       "stream": "stderr",
       "text": [
        "2004-09-09 00:00:00 strategy [INFO] BUY at $74.25\n"
       ]
      },
      {
       "output_type": "stream",
       "stream": "stderr",
       "text": [
        "INFO:strategy:SELL at $72.00\n"
       ]
      },
      {
       "output_type": "stream",
       "stream": "stderr",
       "text": [
        "2004-09-16 00:00:00 strategy [INFO] SELL at $72.00\n"
       ]
      },
      {
       "output_type": "stream",
       "stream": "stderr",
       "text": [
        "INFO:strategy:BUY at $73.50\n"
       ]
      },
      {
       "output_type": "stream",
       "stream": "stderr",
       "text": [
        "2004-09-20 00:00:00 strategy [INFO] BUY at $73.50\n"
       ]
      },
      {
       "output_type": "stream",
       "stream": "stderr",
       "text": [
        "INFO:strategy:SELL at $73.00\n"
       ]
      },
      {
       "output_type": "stream",
       "stream": "stderr",
       "text": [
        "2004-09-24 00:00:00 strategy [INFO] SELL at $73.00\n"
       ]
      },
      {
       "output_type": "stream",
       "stream": "stderr",
       "text": [
        "INFO:strategy:BUY at $74.75\n"
       ]
      },
      {
       "output_type": "stream",
       "stream": "stderr",
       "text": [
        "2004-10-01 00:00:00 strategy [INFO] BUY at $74.75\n"
       ]
      },
      {
       "output_type": "stream",
       "stream": "stderr",
       "text": [
        "INFO:strategy:SELL at $77.25\n"
       ]
      },
      {
       "output_type": "stream",
       "stream": "stderr",
       "text": [
        "2004-10-18 00:00:00 strategy [INFO] SELL at $77.25\n"
       ]
      },
      {
       "output_type": "stream",
       "stream": "stderr",
       "text": [
        "INFO:strategy:BUY at $78.00\n"
       ]
      },
      {
       "output_type": "stream",
       "stream": "stderr",
       "text": [
        "2004-10-19 00:00:00 strategy [INFO] BUY at $78.00\n"
       ]
      },
      {
       "output_type": "stream",
       "stream": "stderr",
       "text": [
        "INFO:strategy:SELL at $78.00\n"
       ]
      },
      {
       "output_type": "stream",
       "stream": "stderr",
       "text": [
        "2004-10-21 00:00:00 strategy [INFO] SELL at $78.00\n"
       ]
      },
      {
       "output_type": "stream",
       "stream": "stderr",
       "text": [
        "INFO:strategy:BUY at $77.75\n"
       ]
      },
      {
       "output_type": "stream",
       "stream": "stderr",
       "text": [
        "2004-10-22 00:00:00 strategy [INFO] BUY at $77.75\n"
       ]
      },
      {
       "output_type": "stream",
       "stream": "stderr",
       "text": [
        "INFO:strategy:SELL at $76.75\n"
       ]
      },
      {
       "output_type": "stream",
       "stream": "stderr",
       "text": [
        "2004-10-25 00:00:00 strategy [INFO] SELL at $76.75\n"
       ]
      },
      {
       "output_type": "stream",
       "stream": "stderr",
       "text": [
        "INFO:strategy:BUY at $81.50\n"
       ]
      },
      {
       "output_type": "stream",
       "stream": "stderr",
       "text": [
        "2004-11-01 00:00:00 strategy [INFO] BUY at $81.50\n"
       ]
      },
      {
       "output_type": "stream",
       "stream": "stderr",
       "text": [
        "INFO:strategy:SELL at $101.75\n"
       ]
      },
      {
       "output_type": "stream",
       "stream": "stderr",
       "text": [
        "2005-01-06 00:00:00 strategy [INFO] SELL at $101.75\n"
       ]
      },
      {
       "output_type": "stream",
       "stream": "stderr",
       "text": [
        "INFO:strategy:BUY at $103.00\n"
       ]
      },
      {
       "output_type": "stream",
       "stream": "stderr",
       "text": [
        "2005-01-10 00:00:00 strategy [INFO] BUY at $103.00\n"
       ]
      },
      {
       "output_type": "stream",
       "stream": "stderr",
       "text": [
        "INFO:strategy:SELL at $107.25\n"
       ]
      },
      {
       "output_type": "stream",
       "stream": "stderr",
       "text": [
        "2005-01-25 00:00:00 strategy [INFO] SELL at $107.25\n"
       ]
      },
      {
       "output_type": "stream",
       "stream": "stderr",
       "text": [
        "INFO:strategy:BUY at $108.25\n"
       ]
      },
      {
       "output_type": "stream",
       "stream": "stderr",
       "text": [
        "2005-01-26 00:00:00 strategy [INFO] BUY at $108.25\n"
       ]
      },
      {
       "output_type": "stream",
       "stream": "stderr",
       "text": [
        "INFO:strategy:SELL at $108.00\n"
       ]
      },
      {
       "output_type": "stream",
       "stream": "stderr",
       "text": [
        "2005-01-28 00:00:00 strategy [INFO] SELL at $108.00\n"
       ]
      },
      {
       "output_type": "stream",
       "stream": "stderr",
       "text": [
        "INFO:strategy:BUY at $107.75\n"
       ]
      },
      {
       "output_type": "stream",
       "stream": "stderr",
       "text": [
        "2005-01-31 00:00:00 strategy [INFO] BUY at $107.75\n"
       ]
      },
      {
       "output_type": "stream",
       "stream": "stderr",
       "text": [
        "INFO:strategy:SELL at $108.25\n"
       ]
      },
      {
       "output_type": "stream",
       "stream": "stderr",
       "text": [
        "2005-02-01 00:00:00 strategy [INFO] SELL at $108.25\n"
       ]
      },
      {
       "output_type": "stream",
       "stream": "stderr",
       "text": [
        "INFO:strategy:BUY at $108.50\n"
       ]
      },
      {
       "output_type": "stream",
       "stream": "stderr",
       "text": [
        "2005-02-02 00:00:00 strategy [INFO] BUY at $108.50\n"
       ]
      },
      {
       "output_type": "stream",
       "stream": "stderr",
       "text": [
        "INFO:strategy:SELL at $110.75\n"
       ]
      },
      {
       "output_type": "stream",
       "stream": "stderr",
       "text": [
        "2005-02-03 00:00:00 strategy [INFO] SELL at $110.75\n"
       ]
      },
      {
       "output_type": "stream",
       "stream": "stderr",
       "text": [
        "INFO:strategy:BUY at $111.75\n"
       ]
      },
      {
       "output_type": "stream",
       "stream": "stderr",
       "text": [
        "2005-02-04 00:00:00 strategy [INFO] BUY at $111.75\n"
       ]
      },
      {
       "output_type": "stream",
       "stream": "stderr",
       "text": [
        "INFO:strategy:SELL at $108.75\n"
       ]
      },
      {
       "output_type": "stream",
       "stream": "stderr",
       "text": [
        "2005-02-17 00:00:00 strategy [INFO] SELL at $108.75\n"
       ]
      },
      {
       "output_type": "stream",
       "stream": "stderr",
       "text": [
        "INFO:strategy:BUY at $104.50\n"
       ]
      },
      {
       "output_type": "stream",
       "stream": "stderr",
       "text": [
        "2005-03-23 00:00:00 strategy [INFO] BUY at $104.50\n"
       ]
      },
      {
       "output_type": "stream",
       "stream": "stderr",
       "text": [
        "INFO:strategy:SELL at $105.25\n"
       ]
      },
      {
       "output_type": "stream",
       "stream": "stderr",
       "text": [
        "2005-03-29 00:00:00 strategy [INFO] SELL at $105.25\n"
       ]
      },
      {
       "output_type": "stream",
       "stream": "stderr",
       "text": [
        "INFO:strategy:BUY at $105.75\n"
       ]
      },
      {
       "output_type": "stream",
       "stream": "stderr",
       "text": [
        "2005-03-30 00:00:00 strategy [INFO] BUY at $105.75\n"
       ]
      },
      {
       "output_type": "stream",
       "stream": "stderr",
       "text": [
        "INFO:strategy:SELL at $102.00\n"
       ]
      },
      {
       "output_type": "stream",
       "stream": "stderr",
       "text": [
        "2005-04-19 00:00:00 strategy [INFO] SELL at $102.00\n"
       ]
      },
      {
       "output_type": "stream",
       "stream": "stderr",
       "text": [
        "INFO:strategy:BUY at $102.00\n"
       ]
      },
      {
       "output_type": "stream",
       "stream": "stderr",
       "text": [
        "2005-05-11 00:00:00 strategy [INFO] BUY at $102.00\n"
       ]
      },
      {
       "output_type": "stream",
       "stream": "stderr",
       "text": [
        "INFO:strategy:SELL at $126.50\n"
       ]
      },
      {
       "output_type": "stream",
       "stream": "stderr",
       "text": [
        "2005-06-30 00:00:00 strategy [INFO] SELL at $126.50\n"
       ]
      },
      {
       "output_type": "stream",
       "stream": "stderr",
       "text": [
        "INFO:strategy:BUY at $126.00\n"
       ]
      },
      {
       "output_type": "stream",
       "stream": "stderr",
       "text": [
        "2005-07-04 00:00:00 strategy [INFO] BUY at $126.00\n"
       ]
      },
      {
       "output_type": "stream",
       "stream": "stderr",
       "text": [
        "INFO:strategy:SELL at $125.00\n"
       ]
      },
      {
       "output_type": "stream",
       "stream": "stderr",
       "text": [
        "2005-07-05 00:00:00 strategy [INFO] SELL at $125.00\n"
       ]
      },
      {
       "output_type": "stream",
       "stream": "stderr",
       "text": [
        "INFO:strategy:BUY at $125.00\n"
       ]
      },
      {
       "output_type": "stream",
       "stream": "stderr",
       "text": [
        "2005-07-13 00:00:00 strategy [INFO] BUY at $125.00\n"
       ]
      },
      {
       "output_type": "stream",
       "stream": "stderr",
       "text": [
        "INFO:strategy:SELL at $124.50\n"
       ]
      },
      {
       "output_type": "stream",
       "stream": "stderr",
       "text": [
        "2005-07-14 00:00:00 strategy [INFO] SELL at $124.50\n"
       ]
      },
      {
       "output_type": "stream",
       "stream": "stderr",
       "text": [
        "INFO:strategy:BUY at $124.75\n"
       ]
      },
      {
       "output_type": "stream",
       "stream": "stderr",
       "text": [
        "2005-07-15 00:00:00 strategy [INFO] BUY at $124.75\n"
       ]
      },
      {
       "output_type": "stream",
       "stream": "stderr",
       "text": [
        "INFO:strategy:SELL at $124.00\n"
       ]
      },
      {
       "output_type": "stream",
       "stream": "stderr",
       "text": [
        "2005-07-21 00:00:00 strategy [INFO] SELL at $124.00\n"
       ]
      },
      {
       "output_type": "stream",
       "stream": "stderr",
       "text": [
        "INFO:strategy:BUY at $124.25\n"
       ]
      },
      {
       "output_type": "stream",
       "stream": "stderr",
       "text": [
        "2005-07-28 00:00:00 strategy [INFO] BUY at $124.25\n"
       ]
      },
      {
       "output_type": "stream",
       "stream": "stderr",
       "text": [
        "INFO:strategy:SELL at $123.75\n"
       ]
      },
      {
       "output_type": "stream",
       "stream": "stderr",
       "text": [
        "2005-07-29 00:00:00 strategy [INFO] SELL at $123.75\n"
       ]
      },
      {
       "output_type": "stream",
       "stream": "stderr",
       "text": [
        "INFO:strategy:BUY at $124.75\n"
       ]
      },
      {
       "output_type": "stream",
       "stream": "stderr",
       "text": [
        "2005-08-04 00:00:00 strategy [INFO] BUY at $124.75\n"
       ]
      },
      {
       "output_type": "stream",
       "stream": "stderr",
       "text": [
        "INFO:strategy:SELL at $120.75\n"
       ]
      },
      {
       "output_type": "stream",
       "stream": "stderr",
       "text": [
        "2005-08-10 00:00:00 strategy [INFO] SELL at $120.75\n"
       ]
      },
      {
       "output_type": "stream",
       "stream": "stderr",
       "text": [
        "INFO:strategy:BUY at $123.50\n"
       ]
      },
      {
       "output_type": "stream",
       "stream": "stderr",
       "text": [
        "2005-08-17 00:00:00 strategy [INFO] BUY at $123.50\n"
       ]
      },
      {
       "output_type": "stream",
       "stream": "stderr",
       "text": [
        "INFO:strategy:SELL at $173.50\n"
       ]
      },
      {
       "output_type": "stream",
       "stream": "stderr",
       "text": [
        "2005-09-29 00:00:00 strategy [INFO] SELL at $173.50\n"
       ]
      },
      {
       "output_type": "stream",
       "stream": "stderr",
       "text": [
        "INFO:strategy:BUY at $160.50\n"
       ]
      },
      {
       "output_type": "stream",
       "stream": "stderr",
       "text": [
        "2005-10-21 00:00:00 strategy [INFO] BUY at $160.50\n"
       ]
      },
      {
       "output_type": "stream",
       "stream": "stderr",
       "text": [
        "INFO:strategy:SELL at $160.50\n"
       ]
      },
      {
       "output_type": "stream",
       "stream": "stderr",
       "text": [
        "2005-10-24 00:00:00 strategy [INFO] SELL at $160.50\n"
       ]
      },
      {
       "output_type": "stream",
       "stream": "stderr",
       "text": [
        "INFO:strategy:BUY at $165.50\n"
       ]
      },
      {
       "output_type": "stream",
       "stream": "stderr",
       "text": [
        "2005-11-01 00:00:00 strategy [INFO] BUY at $165.50\n"
       ]
      },
      {
       "output_type": "stream",
       "stream": "stderr",
       "text": [
        "INFO:strategy:SELL at $172.50\n"
       ]
      },
      {
       "output_type": "stream",
       "stream": "stderr",
       "text": [
        "2005-11-24 00:00:00 strategy [INFO] SELL at $172.50\n"
       ]
      },
      {
       "output_type": "stream",
       "stream": "stderr",
       "text": [
        "INFO:strategy:BUY at $176.75\n"
       ]
      },
      {
       "output_type": "stream",
       "stream": "stderr",
       "text": [
        "2005-11-28 00:00:00 strategy [INFO] BUY at $176.75\n"
       ]
      },
      {
       "output_type": "stream",
       "stream": "stderr",
       "text": [
        "INFO:strategy:SELL at $177.00\n"
       ]
      },
      {
       "output_type": "stream",
       "stream": "stderr",
       "text": [
        "2005-11-30 00:00:00 strategy [INFO] SELL at $177.00\n"
       ]
      },
      {
       "output_type": "stream",
       "stream": "stderr",
       "text": [
        "INFO:strategy:BUY at $174.25\n"
       ]
      },
      {
       "output_type": "stream",
       "stream": "stderr",
       "text": [
        "2005-12-01 00:00:00 strategy [INFO] BUY at $174.25\n"
       ]
      },
      {
       "output_type": "stream",
       "stream": "stderr",
       "text": [
        "INFO:strategy:SELL at $175.75\n"
       ]
      },
      {
       "output_type": "stream",
       "stream": "stderr",
       "text": [
        "2005-12-02 00:00:00 strategy [INFO] SELL at $175.75\n"
       ]
      },
      {
       "output_type": "stream",
       "stream": "stderr",
       "text": [
        "INFO:strategy:BUY at $182.50\n"
       ]
      },
      {
       "output_type": "stream",
       "stream": "stderr",
       "text": [
        "2005-12-08 00:00:00 strategy [INFO] BUY at $182.50\n"
       ]
      },
      {
       "output_type": "stream",
       "stream": "stderr",
       "text": [
        "INFO:strategy:SELL at $184.50\n"
       ]
      },
      {
       "output_type": "stream",
       "stream": "stderr",
       "text": [
        "2005-12-30 00:00:00 strategy [INFO] SELL at $184.50\n"
       ]
      },
      {
       "output_type": "stream",
       "stream": "stderr",
       "text": [
        "INFO:strategy:BUY at $185.00\n"
       ]
      },
      {
       "output_type": "stream",
       "stream": "stderr",
       "text": [
        "2006-01-02 00:00:00 strategy [INFO] BUY at $185.00\n"
       ]
      },
      {
       "output_type": "stream",
       "stream": "stderr",
       "text": [
        "INFO:strategy:SELL at $181.00\n"
       ]
      },
      {
       "output_type": "stream",
       "stream": "stderr",
       "text": [
        "2006-01-09 00:00:00 strategy [INFO] SELL at $181.00\n"
       ]
      },
      {
       "output_type": "stream",
       "stream": "stderr",
       "text": [
        "INFO:strategy:BUY at $186.00\n"
       ]
      },
      {
       "output_type": "stream",
       "stream": "stderr",
       "text": [
        "2006-01-10 00:00:00 strategy [INFO] BUY at $186.00\n"
       ]
      },
      {
       "output_type": "stream",
       "stream": "stderr",
       "text": [
        "INFO:strategy:SELL at $188.75\n"
       ]
      },
      {
       "output_type": "stream",
       "stream": "stderr",
       "text": [
        "2006-01-24 00:00:00 strategy [INFO] SELL at $188.75\n"
       ]
      },
      {
       "output_type": "stream",
       "stream": "stderr",
       "text": [
        "INFO:strategy:BUY at $192.25\n"
       ]
      },
      {
       "output_type": "stream",
       "stream": "stderr",
       "text": [
        "2006-01-25 00:00:00 strategy [INFO] BUY at $192.25\n"
       ]
      },
      {
       "output_type": "stream",
       "stream": "stderr",
       "text": [
        "INFO:strategy:SELL at $184.75\n"
       ]
      },
      {
       "output_type": "stream",
       "stream": "stderr",
       "text": [
        "2006-01-31 00:00:00 strategy [INFO] SELL at $184.75\n"
       ]
      },
      {
       "output_type": "stream",
       "stream": "stderr",
       "text": [
        "INFO:strategy:BUY at $186.25\n"
       ]
      },
      {
       "output_type": "stream",
       "stream": "stderr",
       "text": [
        "2006-02-21 00:00:00 strategy [INFO] BUY at $186.25\n"
       ]
      },
      {
       "output_type": "stream",
       "stream": "stderr",
       "text": [
        "INFO:strategy:SELL at $240.50\n"
       ]
      },
      {
       "output_type": "stream",
       "stream": "stderr",
       "text": [
        "2006-04-18 00:00:00 strategy [INFO] SELL at $240.50\n"
       ]
      },
      {
       "output_type": "stream",
       "stream": "stderr",
       "text": [
        "INFO:strategy:BUY at $250.75\n"
       ]
      },
      {
       "output_type": "stream",
       "stream": "stderr",
       "text": [
        "2006-04-20 00:00:00 strategy [INFO] BUY at $250.75\n"
       ]
      },
      {
       "output_type": "stream",
       "stream": "stderr",
       "text": [
        "INFO:strategy:SELL at $251.50\n"
       ]
      },
      {
       "output_type": "stream",
       "stream": "stderr",
       "text": [
        "2006-05-16 00:00:00 strategy [INFO] SELL at $251.50\n"
       ]
      },
      {
       "output_type": "stream",
       "stream": "stderr",
       "text": [
        "INFO:strategy:BUY at $218.50\n"
       ]
      },
      {
       "output_type": "stream",
       "stream": "stderr",
       "text": [
        "2006-06-26 00:00:00 strategy [INFO] BUY at $218.50\n"
       ]
      },
      {
       "output_type": "stream",
       "stream": "stderr",
       "text": [
        "INFO:strategy:SELL at $211.75\n"
       ]
      },
      {
       "output_type": "stream",
       "stream": "stderr",
       "text": [
        "2006-07-14 00:00:00 strategy [INFO] SELL at $211.75\n"
       ]
      },
      {
       "output_type": "stream",
       "stream": "stderr",
       "text": [
        "INFO:strategy:BUY at $221.75\n"
       ]
      },
      {
       "output_type": "stream",
       "stream": "stderr",
       "text": [
        "2006-07-25 00:00:00 strategy [INFO] BUY at $221.75\n"
       ]
      },
      {
       "output_type": "stream",
       "stream": "stderr",
       "text": [
        "INFO:strategy:SELL at $222.75\n"
       ]
      },
      {
       "output_type": "stream",
       "stream": "stderr",
       "text": [
        "2006-07-26 00:00:00 strategy [INFO] SELL at $222.75\n"
       ]
      },
      {
       "output_type": "stream",
       "stream": "stderr",
       "text": [
        "INFO:strategy:BUY at $225.75\n"
       ]
      },
      {
       "output_type": "stream",
       "stream": "stderr",
       "text": [
        "2006-07-27 00:00:00 strategy [INFO] BUY at $225.75\n"
       ]
      },
      {
       "output_type": "stream",
       "stream": "stderr",
       "text": [
        "INFO:strategy:SELL at $254.25\n"
       ]
      },
      {
       "output_type": "stream",
       "stream": "stderr",
       "text": [
        "2006-09-12 00:00:00 strategy [INFO] SELL at $254.25\n"
       ]
      },
      {
       "output_type": "stream",
       "stream": "stderr",
       "text": [
        "INFO:strategy:BUY at $260.00\n"
       ]
      },
      {
       "output_type": "stream",
       "stream": "stderr",
       "text": [
        "2006-09-14 00:00:00 strategy [INFO] BUY at $260.00\n"
       ]
      },
      {
       "output_type": "stream",
       "stream": "stderr",
       "text": [
        "INFO:strategy:SELL at $313.25\n"
       ]
      },
      {
       "output_type": "stream",
       "stream": "stderr",
       "text": [
        "2006-11-23 00:00:00 strategy [INFO] SELL at $313.25\n"
       ]
      },
      {
       "output_type": "stream",
       "stream": "stderr",
       "text": [
        "INFO:strategy:BUY at $325.75\n"
       ]
      },
      {
       "output_type": "stream",
       "stream": "stderr",
       "text": [
        "2006-11-30 00:00:00 strategy [INFO] BUY at $325.75\n"
       ]
      },
      {
       "output_type": "stream",
       "stream": "stderr",
       "text": [
        "INFO:strategy:SELL at $353.00\n"
       ]
      },
      {
       "output_type": "stream",
       "stream": "stderr",
       "text": [
        "2007-01-09 00:00:00 strategy [INFO] SELL at $353.00\n"
       ]
      },
      {
       "output_type": "stream",
       "stream": "stderr",
       "text": [
        "INFO:strategy:BUY at $355.25\n"
       ]
      },
      {
       "output_type": "stream",
       "stream": "stderr",
       "text": [
        "2007-01-11 00:00:00 strategy [INFO] BUY at $355.25\n"
       ]
      },
      {
       "output_type": "stream",
       "stream": "stderr",
       "text": [
        "INFO:strategy:SELL at $397.00\n"
       ]
      },
      {
       "output_type": "stream",
       "stream": "stderr",
       "text": [
        "2007-02-21 00:00:00 strategy [INFO] SELL at $397.00\n"
       ]
      },
      {
       "output_type": "stream",
       "stream": "stderr",
       "text": [
        "INFO:strategy:BUY at $363.00\n"
       ]
      },
      {
       "output_type": "stream",
       "stream": "stderr",
       "text": [
        "2007-03-20 00:00:00 strategy [INFO] BUY at $363.00\n"
       ]
      },
      {
       "output_type": "stream",
       "stream": "stderr",
       "text": [
        "INFO:strategy:SELL at $366.25\n"
       ]
      },
      {
       "output_type": "stream",
       "stream": "stderr",
       "text": [
        "2007-03-21 00:00:00 strategy [INFO] SELL at $366.25\n"
       ]
      },
      {
       "output_type": "stream",
       "stream": "stderr",
       "text": [
        "INFO:strategy:BUY at $376.50\n"
       ]
      },
      {
       "output_type": "stream",
       "stream": "stderr",
       "text": [
        "2007-03-22 00:00:00 strategy [INFO] BUY at $376.50\n"
       ]
      },
      {
       "output_type": "stream",
       "stream": "stderr",
       "text": [
        "INFO:strategy:SELL at $402.50\n"
       ]
      },
      {
       "output_type": "stream",
       "stream": "stderr",
       "text": [
        "2007-04-20 00:00:00 strategy [INFO] SELL at $402.50\n"
       ]
      },
      {
       "output_type": "stream",
       "stream": "stderr",
       "text": [
        "INFO:strategy:BUY at $415.50\n"
       ]
      },
      {
       "output_type": "stream",
       "stream": "stderr",
       "text": [
        "2007-04-23 00:00:00 strategy [INFO] BUY at $415.50\n"
       ]
      },
      {
       "output_type": "stream",
       "stream": "stderr",
       "text": [
        "INFO:strategy:SELL at $420.25\n"
       ]
      },
      {
       "output_type": "stream",
       "stream": "stderr",
       "text": [
        "2007-06-07 00:00:00 strategy [INFO] SELL at $420.25\n"
       ]
      },
      {
       "output_type": "stream",
       "stream": "stderr",
       "text": [
        "INFO:strategy:BUY at $432.50\n"
       ]
      },
      {
       "output_type": "stream",
       "stream": "stderr",
       "text": [
        "2007-06-29 00:00:00 strategy [INFO] BUY at $432.50\n"
       ]
      },
      {
       "output_type": "stream",
       "stream": "stderr",
       "text": [
        "INFO:strategy:SELL at $478.00\n"
       ]
      },
      {
       "output_type": "stream",
       "stream": "stderr",
       "text": [
        "2007-08-02 00:00:00 strategy [INFO] SELL at $478.00\n"
       ]
      },
      {
       "output_type": "stream",
       "stream": "stderr",
       "text": [
        "INFO:strategy:BUY at $483.75\n"
       ]
      },
      {
       "output_type": "stream",
       "stream": "stderr",
       "text": [
        "2007-08-23 00:00:00 strategy [INFO] BUY at $483.75\n"
       ]
      },
      {
       "output_type": "stream",
       "stream": "stderr",
       "text": [
        "INFO:strategy:SELL at $504.00\n"
       ]
      },
      {
       "output_type": "stream",
       "stream": "stderr",
       "text": [
        "2007-09-11 00:00:00 strategy [INFO] SELL at $504.00\n"
       ]
      },
      {
       "output_type": "stream",
       "stream": "stderr",
       "text": [
        "INFO:strategy:BUY at $512.00\n"
       ]
      },
      {
       "output_type": "stream",
       "stream": "stderr",
       "text": [
        "2007-09-12 00:00:00 strategy [INFO] BUY at $512.00\n"
       ]
      },
      {
       "output_type": "stream",
       "stream": "stderr",
       "text": [
        "INFO:strategy:SELL at $494.50\n"
       ]
      },
      {
       "output_type": "stream",
       "stream": "stderr",
       "text": [
        "2007-09-18 00:00:00 strategy [INFO] SELL at $494.50\n"
       ]
      },
      {
       "output_type": "stream",
       "stream": "stderr",
       "text": [
        "INFO:strategy:BUY at $520.50\n"
       ]
      },
      {
       "output_type": "stream",
       "stream": "stderr",
       "text": [
        "2007-09-20 00:00:00 strategy [INFO] BUY at $520.50\n"
       ]
      },
      {
       "output_type": "stream",
       "stream": "stderr",
       "text": [
        "INFO:strategy:SELL at $549.00\n"
       ]
      },
      {
       "output_type": "stream",
       "stream": "stderr",
       "text": [
        "2007-10-10 00:00:00 strategy [INFO] SELL at $549.00\n"
       ]
      },
      {
       "output_type": "stream",
       "stream": "stderr",
       "text": [
        "INFO:strategy:BUY at $559.00\n"
       ]
      },
      {
       "output_type": "stream",
       "stream": "stderr",
       "text": [
        "2007-10-26 00:00:00 strategy [INFO] BUY at $559.00\n"
       ]
      },
      {
       "output_type": "stream",
       "stream": "stderr",
       "text": [
        "INFO:strategy:SELL at $546.00\n"
       ]
      },
      {
       "output_type": "stream",
       "stream": "stderr",
       "text": [
        "2007-11-05 00:00:00 strategy [INFO] SELL at $546.00\n"
       ]
      },
      {
       "output_type": "stream",
       "stream": "stderr",
       "text": [
        "INFO:strategy:BUY at $564.00\n"
       ]
      },
      {
       "output_type": "stream",
       "stream": "stderr",
       "text": [
        "2007-11-07 00:00:00 strategy [INFO] BUY at $564.00\n"
       ]
      },
      {
       "output_type": "stream",
       "stream": "stderr",
       "text": [
        "INFO:strategy:SELL at $526.00\n"
       ]
      },
      {
       "output_type": "stream",
       "stream": "stderr",
       "text": [
        "2007-11-12 00:00:00 strategy [INFO] SELL at $526.00\n"
       ]
      },
      {
       "output_type": "stream",
       "stream": "stderr",
       "text": [
        "INFO:strategy:BUY at $499.00\n"
       ]
      },
      {
       "output_type": "stream",
       "stream": "stderr",
       "text": [
        "2007-11-28 00:00:00 strategy [INFO] BUY at $499.00\n"
       ]
      },
      {
       "output_type": "stream",
       "stream": "stderr",
       "text": [
        "INFO:strategy:SELL at $505.00\n"
       ]
      },
      {
       "output_type": "stream",
       "stream": "stderr",
       "text": [
        "2007-12-18 00:00:00 strategy [INFO] SELL at $505.00\n"
       ]
      },
      {
       "output_type": "stream",
       "stream": "stderr",
       "text": [
        "INFO:strategy:BUY at $514.00\n"
       ]
      },
      {
       "output_type": "stream",
       "stream": "stderr",
       "text": [
        "2007-12-28 00:00:00 strategy [INFO] BUY at $514.00\n"
       ]
      },
      {
       "output_type": "stream",
       "stream": "stderr",
       "text": [
        "INFO:strategy:SELL at $510.00\n"
       ]
      },
      {
       "output_type": "stream",
       "stream": "stderr",
       "text": [
        "2008-01-04 00:00:00 strategy [INFO] SELL at $510.00\n"
       ]
      },
      {
       "output_type": "stream",
       "stream": "stderr",
       "text": [
        "INFO:strategy:BUY at $460.00\n"
       ]
      },
      {
       "output_type": "stream",
       "stream": "stderr",
       "text": [
        "2008-01-25 00:00:00 strategy [INFO] BUY at $460.00\n"
       ]
      },
      {
       "output_type": "stream",
       "stream": "stderr",
       "text": [
        "INFO:strategy:SELL at $446.00\n"
       ]
      },
      {
       "output_type": "stream",
       "stream": "stderr",
       "text": [
        "2008-02-12 00:00:00 strategy [INFO] SELL at $446.00\n"
       ]
      },
      {
       "output_type": "stream",
       "stream": "stderr",
       "text": [
        "INFO:strategy:BUY at $452.50\n"
       ]
      },
      {
       "output_type": "stream",
       "stream": "stderr",
       "text": [
        "2008-02-13 00:00:00 strategy [INFO] BUY at $452.50\n"
       ]
      },
      {
       "output_type": "stream",
       "stream": "stderr",
       "text": [
        "INFO:strategy:SELL at $468.00\n"
       ]
      },
      {
       "output_type": "stream",
       "stream": "stderr",
       "text": [
        "2008-02-29 00:00:00 strategy [INFO] SELL at $468.00\n"
       ]
      },
      {
       "output_type": "stream",
       "stream": "stderr",
       "text": [
        "INFO:strategy:BUY at $459.00\n"
       ]
      },
      {
       "output_type": "stream",
       "stream": "stderr",
       "text": [
        "2008-03-26 00:00:00 strategy [INFO] BUY at $459.00\n"
       ]
      },
      {
       "output_type": "stream",
       "stream": "stderr",
       "text": [
        "INFO:strategy:SELL at $459.00\n"
       ]
      },
      {
       "output_type": "stream",
       "stream": "stderr",
       "text": [
        "2008-03-27 00:00:00 strategy [INFO] SELL at $459.00\n"
       ]
      },
      {
       "output_type": "stream",
       "stream": "stderr",
       "text": [
        "INFO:strategy:BUY at $469.00\n"
       ]
      },
      {
       "output_type": "stream",
       "stream": "stderr",
       "text": [
        "2008-03-28 00:00:00 strategy [INFO] BUY at $469.00\n"
       ]
      },
      {
       "output_type": "stream",
       "stream": "stderr",
       "text": [
        "INFO:strategy:SELL at $456.50\n"
       ]
      },
      {
       "output_type": "stream",
       "stream": "stderr",
       "text": [
        "2008-04-14 00:00:00 strategy [INFO] SELL at $456.50\n"
       ]
      },
      {
       "output_type": "stream",
       "stream": "stderr",
       "text": [
        "INFO:strategy:BUY at $476.00\n"
       ]
      },
      {
       "output_type": "stream",
       "stream": "stderr",
       "text": [
        "2008-04-16 00:00:00 strategy [INFO] BUY at $476.00\n"
       ]
      },
      {
       "output_type": "stream",
       "stream": "stderr",
       "text": [
        "INFO:strategy:SELL at $551.00\n"
       ]
      },
      {
       "output_type": "stream",
       "stream": "stderr",
       "text": [
        "2008-05-28 00:00:00 strategy [INFO] SELL at $551.00\n"
       ]
      },
      {
       "output_type": "stream",
       "stream": "stderr",
       "text": [
        "INFO:strategy:BUY at $552.00\n"
       ]
      },
      {
       "output_type": "stream",
       "stream": "stderr",
       "text": [
        "2008-05-29 00:00:00 strategy [INFO] BUY at $552.00\n"
       ]
      },
      {
       "output_type": "stream",
       "stream": "stderr",
       "text": [
        "INFO:strategy:SELL at $556.00\n"
       ]
      },
      {
       "output_type": "stream",
       "stream": "stderr",
       "text": [
        "2008-06-09 00:00:00 strategy [INFO] SELL at $556.00\n"
       ]
      },
      {
       "output_type": "stream",
       "stream": "stderr",
       "text": [
        "INFO:strategy:BUY at $562.00\n"
       ]
      },
      {
       "output_type": "stream",
       "stream": "stderr",
       "text": [
        "2008-06-11 00:00:00 strategy [INFO] BUY at $562.00\n"
       ]
      },
      {
       "output_type": "stream",
       "stream": "stderr",
       "text": [
        "INFO:strategy:SELL at $540.00\n"
       ]
      },
      {
       "output_type": "stream",
       "stream": "stderr",
       "text": [
        "2008-06-12 00:00:00 strategy [INFO] SELL at $540.00\n"
       ]
      },
      {
       "output_type": "stream",
       "stream": "stderr",
       "text": [
        "INFO:strategy:BUY at $560.00\n"
       ]
      },
      {
       "output_type": "stream",
       "stream": "stderr",
       "text": [
        "2008-06-18 00:00:00 strategy [INFO] BUY at $560.00\n"
       ]
      },
      {
       "output_type": "stream",
       "stream": "stderr",
       "text": [
        "INFO:strategy:SELL at $540.00\n"
       ]
      },
      {
       "output_type": "stream",
       "stream": "stderr",
       "text": [
        "2008-06-19 00:00:00 strategy [INFO] SELL at $540.00\n"
       ]
      },
      {
       "output_type": "stream",
       "stream": "stderr",
       "text": [
        "INFO:strategy:BUY at $482.50\n"
       ]
      },
      {
       "output_type": "stream",
       "stream": "stderr",
       "text": [
        "2008-07-24 00:00:00 strategy [INFO] BUY at $482.50\n"
       ]
      },
      {
       "output_type": "stream",
       "stream": "stderr",
       "text": [
        "INFO:strategy:SELL at $445.50\n"
       ]
      },
      {
       "output_type": "stream",
       "stream": "stderr",
       "text": [
        "2008-07-25 00:00:00 strategy [INFO] SELL at $445.50\n"
       ]
      },
      {
       "output_type": "stream",
       "stream": "stderr",
       "text": [
        "INFO:strategy:BUY at $472.50\n"
       ]
      },
      {
       "output_type": "stream",
       "stream": "stderr",
       "text": [
        "2008-07-31 00:00:00 strategy [INFO] BUY at $472.50\n"
       ]
      },
      {
       "output_type": "stream",
       "stream": "stderr",
       "text": [
        "INFO:strategy:SELL at $449.50\n"
       ]
      },
      {
       "output_type": "stream",
       "stream": "stderr",
       "text": [
        "2008-08-04 00:00:00 strategy [INFO] SELL at $449.50\n"
       ]
      },
      {
       "output_type": "stream",
       "stream": "stderr",
       "text": [
        "INFO:strategy:BUY at $444.00\n"
       ]
      },
      {
       "output_type": "stream",
       "stream": "stderr",
       "text": [
        "2008-08-18 00:00:00 strategy [INFO] BUY at $444.00\n"
       ]
      },
      {
       "output_type": "stream",
       "stream": "stderr",
       "text": [
        "INFO:strategy:SELL at $439.00\n"
       ]
      },
      {
       "output_type": "stream",
       "stream": "stderr",
       "text": [
        "2008-08-20 00:00:00 strategy [INFO] SELL at $439.00\n"
       ]
      },
      {
       "output_type": "stream",
       "stream": "stderr",
       "text": [
        "INFO:strategy:BUY at $416.00\n"
       ]
      },
      {
       "output_type": "stream",
       "stream": "stderr",
       "text": [
        "2008-08-21 00:00:00 strategy [INFO] BUY at $416.00\n"
       ]
      },
      {
       "output_type": "stream",
       "stream": "stderr",
       "text": [
        "INFO:strategy:SELL at $405.00\n"
       ]
      },
      {
       "output_type": "stream",
       "stream": "stderr",
       "text": [
        "2008-08-22 00:00:00 strategy [INFO] SELL at $405.00\n"
       ]
      },
      {
       "output_type": "stream",
       "stream": "stderr",
       "text": [
        "INFO:strategy:BUY at $369.00\n"
       ]
      },
      {
       "output_type": "stream",
       "stream": "stderr",
       "text": [
        "2008-09-22 00:00:00 strategy [INFO] BUY at $369.00\n"
       ]
      },
      {
       "output_type": "stream",
       "stream": "stderr",
       "text": [
        "INFO:strategy:SELL at $334.00\n"
       ]
      },
      {
       "output_type": "stream",
       "stream": "stderr",
       "text": [
        "2008-09-24 00:00:00 strategy [INFO] SELL at $334.00\n"
       ]
      },
      {
       "output_type": "stream",
       "stream": "stderr",
       "text": [
        "INFO:strategy:BUY at $212.00\n"
       ]
      },
      {
       "output_type": "stream",
       "stream": "stderr",
       "text": [
        "2008-10-22 00:00:00 strategy [INFO] BUY at $212.00\n"
       ]
      },
      {
       "output_type": "stream",
       "stream": "stderr",
       "text": [
        "INFO:strategy:SELL at $197.00\n"
       ]
      },
      {
       "output_type": "stream",
       "stream": "stderr",
       "text": [
        "2008-10-23 00:00:00 strategy [INFO] SELL at $197.00\n"
       ]
      },
      {
       "output_type": "stream",
       "stream": "stderr",
       "text": [
        "INFO:strategy:BUY at $208.00\n"
       ]
      },
      {
       "output_type": "stream",
       "stream": "stderr",
       "text": [
        "2008-10-31 00:00:00 strategy [INFO] BUY at $208.00\n"
       ]
      },
      {
       "output_type": "stream",
       "stream": "stderr",
       "text": [
        "INFO:strategy:SELL at $204.50\n"
       ]
      },
      {
       "output_type": "stream",
       "stream": "stderr",
       "text": [
        "2008-11-07 00:00:00 strategy [INFO] SELL at $204.50\n"
       ]
      },
      {
       "output_type": "stream",
       "stream": "stderr",
       "text": [
        "INFO:strategy:BUY at $202.25\n"
       ]
      },
      {
       "output_type": "stream",
       "stream": "stderr",
       "text": [
        "2008-11-11 00:00:00 strategy [INFO] BUY at $202.25\n"
       ]
      },
      {
       "output_type": "stream",
       "stream": "stderr",
       "text": [
        "INFO:strategy:SELL at $201.50\n"
       ]
      },
      {
       "output_type": "stream",
       "stream": "stderr",
       "text": [
        "2008-11-12 00:00:00 strategy [INFO] SELL at $201.50\n"
       ]
      },
      {
       "output_type": "stream",
       "stream": "stderr",
       "text": [
        "INFO:strategy:BUY at $188.00\n"
       ]
      },
      {
       "output_type": "stream",
       "stream": "stderr",
       "text": [
        "2008-11-28 00:00:00 strategy [INFO] BUY at $188.00\n"
       ]
      },
      {
       "output_type": "stream",
       "stream": "stderr",
       "text": [
        "INFO:strategy:SELL at $174.75\n"
       ]
      },
      {
       "output_type": "stream",
       "stream": "stderr",
       "text": [
        "2008-12-15 00:00:00 strategy [INFO] SELL at $174.75\n"
       ]
      },
      {
       "output_type": "stream",
       "stream": "stderr",
       "text": [
        "INFO:strategy:BUY at $185.75\n"
       ]
      },
      {
       "output_type": "stream",
       "stream": "stderr",
       "text": [
        "2009-01-02 00:00:00 strategy [INFO] BUY at $185.75\n"
       ]
      },
      {
       "output_type": "stream",
       "stream": "stderr",
       "text": [
        "INFO:strategy:SELL at $172.75\n"
       ]
      },
      {
       "output_type": "stream",
       "stream": "stderr",
       "text": [
        "2009-01-13 00:00:00 strategy [INFO] SELL at $172.75\n"
       ]
      },
      {
       "output_type": "stream",
       "stream": "stderr",
       "text": [
        "INFO:strategy:BUY at $163.00\n"
       ]
      },
      {
       "output_type": "stream",
       "stream": "stderr",
       "text": [
        "2009-02-05 00:00:00 strategy [INFO] BUY at $163.00\n"
       ]
      },
      {
       "output_type": "stream",
       "stream": "stderr",
       "text": [
        "INFO:strategy:SELL at $168.00\n"
       ]
      },
      {
       "output_type": "stream",
       "stream": "stderr",
       "text": [
        "2009-02-19 00:00:00 strategy [INFO] SELL at $168.00\n"
       ]
      },
      {
       "output_type": "stream",
       "stream": "stderr",
       "text": [
        "INFO:strategy:BUY at $138.50\n"
       ]
      },
      {
       "output_type": "stream",
       "stream": "stderr",
       "text": [
        "2009-03-17 00:00:00 strategy [INFO] BUY at $138.50\n"
       ]
      },
      {
       "output_type": "stream",
       "stream": "stderr",
       "text": [
        "INFO:strategy:SELL at $193.00\n"
       ]
      },
      {
       "output_type": "stream",
       "stream": "stderr",
       "text": [
        "2009-05-15 00:00:00 strategy [INFO] SELL at $193.00\n"
       ]
      },
      {
       "output_type": "stream",
       "stream": "stderr",
       "text": [
        "INFO:strategy:BUY at $192.00\n"
       ]
      },
      {
       "output_type": "stream",
       "stream": "stderr",
       "text": [
        "2009-05-18 00:00:00 strategy [INFO] BUY at $192.00\n"
       ]
      },
      {
       "output_type": "stream",
       "stream": "stderr",
       "text": [
        "INFO:strategy:SELL at $200.00\n"
       ]
      },
      {
       "output_type": "stream",
       "stream": "stderr",
       "text": [
        "2009-05-29 00:00:00 strategy [INFO] SELL at $200.00\n"
       ]
      },
      {
       "output_type": "stream",
       "stream": "stderr",
       "text": [
        "INFO:strategy:BUY at $205.75\n"
       ]
      },
      {
       "output_type": "stream",
       "stream": "stderr",
       "text": [
        "2009-06-03 00:00:00 strategy [INFO] BUY at $205.75\n"
       ]
      },
      {
       "output_type": "stream",
       "stream": "stderr",
       "text": [
        "INFO:strategy:SELL at $205.00\n"
       ]
      },
      {
       "output_type": "stream",
       "stream": "stderr",
       "text": [
        "2009-06-10 00:00:00 strategy [INFO] SELL at $205.00\n"
       ]
      },
      {
       "output_type": "stream",
       "stream": "stderr",
       "text": [
        "INFO:strategy:BUY at $209.00\n"
       ]
      },
      {
       "output_type": "stream",
       "stream": "stderr",
       "text": [
        "2009-06-11 00:00:00 strategy [INFO] BUY at $209.00\n"
       ]
      },
      {
       "output_type": "stream",
       "stream": "stderr",
       "text": [
        "INFO:strategy:SELL at $198.25\n"
       ]
      },
      {
       "output_type": "stream",
       "stream": "stderr",
       "text": [
        "2009-06-18 00:00:00 strategy [INFO] SELL at $198.25\n"
       ]
      },
      {
       "output_type": "stream",
       "stream": "stderr",
       "text": [
        "INFO:strategy:BUY at $192.75\n"
       ]
      },
      {
       "output_type": "stream",
       "stream": "stderr",
       "text": [
        "2009-07-16 00:00:00 strategy [INFO] BUY at $192.75\n"
       ]
      },
      {
       "output_type": "stream",
       "stream": "stderr",
       "text": [
        "INFO:strategy:SELL at $236.50\n"
       ]
      },
      {
       "output_type": "stream",
       "stream": "stderr",
       "text": [
        "2009-08-20 00:00:00 strategy [INFO] SELL at $236.50\n"
       ]
      },
      {
       "output_type": "stream",
       "stream": "stderr",
       "text": [
        "INFO:strategy:BUY at $253.00\n"
       ]
      },
      {
       "output_type": "stream",
       "stream": "stderr",
       "text": [
        "2009-08-21 00:00:00 strategy [INFO] BUY at $253.00\n"
       ]
      },
      {
       "output_type": "stream",
       "stream": "stderr",
       "text": [
        "INFO:strategy:SELL at $290.50\n"
       ]
      },
      {
       "output_type": "stream",
       "stream": "stderr",
       "text": [
        "2009-09-22 00:00:00 strategy [INFO] SELL at $290.50\n"
       ]
      },
      {
       "output_type": "stream",
       "stream": "stderr",
       "text": [
        "INFO:strategy:BUY at $280.00\n"
       ]
      },
      {
       "output_type": "stream",
       "stream": "stderr",
       "text": [
        "2009-10-12 00:00:00 strategy [INFO] BUY at $280.00\n"
       ]
      },
      {
       "output_type": "stream",
       "stream": "stderr",
       "text": [
        "INFO:strategy:SELL at $276.00\n"
       ]
      },
      {
       "output_type": "stream",
       "stream": "stderr",
       "text": [
        "2009-10-14 00:00:00 strategy [INFO] SELL at $276.00\n"
       ]
      },
      {
       "output_type": "stream",
       "stream": "stderr",
       "text": [
        "INFO:strategy:BUY at $290.00\n"
       ]
      },
      {
       "output_type": "stream",
       "stream": "stderr",
       "text": [
        "2009-10-15 00:00:00 strategy [INFO] BUY at $290.00\n"
       ]
      },
      {
       "output_type": "stream",
       "stream": "stderr",
       "text": [
        "INFO:strategy:SELL at $284.00\n"
       ]
      },
      {
       "output_type": "stream",
       "stream": "stderr",
       "text": [
        "2009-10-27 00:00:00 strategy [INFO] SELL at $284.00\n"
       ]
      },
      {
       "output_type": "stream",
       "stream": "stderr",
       "text": [
        "INFO:strategy:BUY at $287.50\n"
       ]
      },
      {
       "output_type": "stream",
       "stream": "stderr",
       "text": [
        "2009-11-10 00:00:00 strategy [INFO] BUY at $287.50\n"
       ]
      },
      {
       "output_type": "stream",
       "stream": "stdout",
       "text": [
        "Final portfolio value: $14031.70\n"
       ]
      }
     ],
     "prompt_number": 11
    },
    {
     "cell_type": "markdown",
     "metadata": {},
     "source": [
      "# Plotting example"
     ]
    },
    {
     "cell_type": "code",
     "collapsed": false,
     "input": [
      "from pyalgotrade import plotter\n",
      "from pyalgotrade.barfeed import yahoofeed\n",
      "from pyalgotrade.stratanalyzer import returns\n",
      "import sma_crossover\n",
      "\n",
      "# Load the yahoo feed from the CSV file\n",
      "feed = yahoofeed.Feed()\n",
      "feed.addBarsFromCSV(stock_id, stock_data)\n",
      "\n",
      "# Evaluate the strategy with the feed's bars.\n",
      "myStrategy = sma_crossover.SMACrossOver(feed, stock_id, 20)\n",
      "\n",
      "# Attach a returns analyzers to the strategy.\n",
      "returnsAnalyzer = returns.Returns()\n",
      "myStrategy.attachAnalyzer(returnsAnalyzer)\n",
      "\n",
      "# Attach the plotter to the strategy.\n",
      "plt = plotter.StrategyPlotter(myStrategy)\n",
      "# Include the SMA in the instrument's subplot to get it displayed along with the closing prices.\n",
      "plt.getInstrumentSubplot(stock_id).addDataSeries(\"SMA\", myStrategy.getSMA())\n",
      "# Plot the simple returns on each bar.\n",
      "plt.getOrCreateSubplot(\"returns\").addDataSeries(\"Simple returns\", returnsAnalyzer.getReturns())\n",
      "\n",
      "# Run the strategy.\n",
      "myStrategy.run()\n",
      "myStrategy.info(\"Final portfolio value: $%.2f\" % myStrategy.getResult())\n",
      "\n",
      "# Plot the strategy.\n",
      "plt.plot()"
     ],
     "language": "python",
     "metadata": {},
     "outputs": [
      {
       "output_type": "stream",
       "stream": "stderr",
       "text": [
        "INFO:strategy:Final portfolio value: $5884476.85\n"
       ]
      },
      {
       "output_type": "stream",
       "stream": "stderr",
       "text": [
        "2009-12-30 00:00:00 strategy [INFO] Final portfolio value: $5884476.85\n"
       ]
      }
     ]
    },
    {
     "cell_type": "code",
     "collapsed": false,
     "input": [],
     "language": "python",
     "metadata": {},
     "outputs": [],
     "prompt_number": 18
    }
   ],
   "metadata": {}
  }
 ]
}